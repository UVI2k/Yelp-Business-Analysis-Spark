{
  "cells": [
    {
      "cell_type": "markdown",
      "metadata": {
        "id": "view-in-github",
        "colab_type": "text"
      },
      "source": [
        "<a href=\"https://colab.research.google.com/github/UVI2k/Portfolio-Projects/blob/main/Yelp_Business_Analysis_Project.ipynb\" target=\"_parent\"><img src=\"https://colab.research.google.com/assets/colab-badge.svg\" alt=\"Open In Colab\"/></a>"
      ]
    },
    {
      "cell_type": "markdown",
      "metadata": {
        "id": "EOos8EKUXaiR"
      },
      "source": [
        "# Data Management and Analysis with Yelp API and Apache Spark\n",
        "\n",
        "\n",
        "\n",
        "\n"
      ]
    },
    {
      "cell_type": "markdown",
      "metadata": {
        "id": "WjvIiVK9X5Li"
      },
      "source": [
        "### **Data Collection with Yelp API**\n",
        "\n",
        "\n",
        "1.1 - Setup Yelp API\n",
        "Before collecting data, you'll need to set up access to the Yelp API. Make sure you have your API key as outlined in the final project assignment document."
      ]
    },
    {
      "cell_type": "code",
      "execution_count": null,
      "metadata": {
        "id": "W9xF6Rz-ZLkn"
      },
      "outputs": [],
      "source": [
        "# Yelp API Key\n",
        "api_key = 'tDJj6lc75aXCR-Qu7i1oRSOY6LczgPD4tZ-CK88b-FZxQEdWulfUo9G-TfrvQ4GH3-_4i3G8OlhYvkjLTXnaYPrGR8gbBd2O3SaN6d0EXOjtjtRUJDZ2g20fFQhRZ3Yx'  # Replace with your API key\n",
        "\n",
        "# Yelp API endpoint for Business Search\n",
        "endpoint_url = 'https://api.yelp.com/v3/businesses/search'\n",
        "\n",
        "# Headers for authenticating the API request\n",
        "headers = {\n",
        "    'Authorization': f'Bearer {api_key}',\n",
        " }\n"
      ]
    },
    {
      "cell_type": "markdown",
      "metadata": {
        "id": "QB9rO42cZ4Ln"
      },
      "source": [
        "1.2 - Making an API Request and Extracting Data\n",
        "Use the Yelp API to fetch data based on your business idea. Adjust the parameters as necessary (location, categories, price range, etc.)."
      ]
    },
    {
      "cell_type": "code",
      "execution_count": null,
      "metadata": {
        "id": "hiPmvDExZ7pu",
        "colab": {
          "base_uri": "https://localhost:8080/",
          "height": 556
        },
        "outputId": "97512cc2-29f1-462f-c1aa-01e2af2643c3",
        "collapsed": true
      },
      "outputs": [
        {
          "output_type": "execute_result",
          "data": {
            "text/plain": [
              "                       id                        alias                name  \\\n",
              "0  gDFjUfoAdiRYNaHBgAPFhg         little-wolf-edmonton         Little Wolf   \n",
              "1  lEr79JhaO3O1XqBpD2zENg     sauce-caribbean-edmonton     Sauce Caribbean   \n",
              "2  FgLO3jQX1XjaqILsG3nN1Q    flat-boy-burgers-edmonton    Flat Boy Burgers   \n",
              "3  gtXAx_G5j6K1TmuJ2v5Rbg              rge-rd-edmonton              RGE RD   \n",
              "4  dHV02LqcZeVYyKlTO9-Btg  sylv-s-retro-diner-edmonton  Sylv’s Retro Diner   \n",
              "\n",
              "                                           image_url  is_closed  \\\n",
              "0  https://s3-media2.fl.yelpcdn.com/bphoto/NxC-1n...      False   \n",
              "1  https://s3-media1.fl.yelpcdn.com/bphoto/M62Fgv...      False   \n",
              "2  https://s3-media4.fl.yelpcdn.com/bphoto/tW6cWk...      False   \n",
              "3  https://s3-media2.fl.yelpcdn.com/bphoto/Br_RNN...      False   \n",
              "4  https://s3-media1.fl.yelpcdn.com/bphoto/wiBsym...      False   \n",
              "\n",
              "                                                 url  review_count  \\\n",
              "0  https://www.yelp.com/biz/little-wolf-edmonton?...             2   \n",
              "1  https://www.yelp.com/biz/sauce-caribbean-edmon...            11   \n",
              "2  https://www.yelp.com/biz/flat-boy-burgers-edmo...            17   \n",
              "3  https://www.yelp.com/biz/rge-rd-edmonton?adjus...           185   \n",
              "4  https://www.yelp.com/biz/sylv-s-retro-diner-ed...             1   \n",
              "\n",
              "                                          categories  rating  \\\n",
              "0  [{'alias': 'newcanadian', 'title': 'Canadian (...     4.5   \n",
              "1     [{'alias': 'caribbean', 'title': 'Caribbean'}]     4.6   \n",
              "2         [{'alias': 'burgers', 'title': 'Burgers'}]     4.8   \n",
              "3  [{'alias': 'newcanadian', 'title': 'Canadian (...     4.3   \n",
              "4         [{'alias': 'burgers', 'title': 'Burgers'}]     5.0   \n",
              "\n",
              "                                         coordinates transactions  \\\n",
              "0  {'latitude': 53.52060631866052, 'longitude': -...           []   \n",
              "1  {'latitude': 53.598365, 'longitude': -113.5729...           []   \n",
              "2  {'latitude': 53.51450555082495, 'longitude': -...           []   \n",
              "3  {'latitude': 53.5507814, 'longitude': -113.533...           []   \n",
              "4    {'latitude': 53.48738, 'longitude': -113.45805}           []   \n",
              "\n",
              "                                            location         phone  \\\n",
              "0  {'address1': '8424 109 Street NW', 'address2':...                 \n",
              "1  {'address1': '13655 St Albert Trail', 'address...  +18254012535   \n",
              "2  {'address1': '9908 78 Avenue NW', 'address2': ...  +17802174650   \n",
              "3  {'address1': '10643 - 123 Street', 'address2':...  +17804474577   \n",
              "4  {'address1': '8707 51 Avenue NW', 'address2': ...  +17802032886   \n",
              "\n",
              "     display_phone     distance  \\\n",
              "0                    934.094295   \n",
              "1  +1 825-401-2535  8791.286039   \n",
              "2  +1 780-217-4650  2190.792114   \n",
              "3  +1 780-447-4577  2927.754959   \n",
              "4  +1 780-203-2886  5701.943691   \n",
              "\n",
              "                                      business_hours  \\\n",
              "0                                                 []   \n",
              "1  [{'open': [{'is_overnight': False, 'start': '1...   \n",
              "2  [{'open': [{'is_overnight': False, 'start': '1...   \n",
              "3  [{'open': [{'is_overnight': False, 'start': '1...   \n",
              "4  [{'open': [{'is_overnight': False, 'start': '1...   \n",
              "\n",
              "                                          attributes price  \n",
              "0  {'business_temp_closed': None, 'menu_url': Non...   NaN  \n",
              "1  {'business_temp_closed': None, 'menu_url': Non...   NaN  \n",
              "2  {'business_temp_closed': None, 'menu_url': 'ht...   NaN  \n",
              "3  {'business_temp_closed': None, 'menu_url': Non...   $$$  \n",
              "4  {'business_temp_closed': None, 'menu_url': Non...   NaN  "
            ],
            "text/html": [
              "\n",
              "  <div id=\"df-4947db0c-459a-4e7d-ab86-8a8b7502cd4e\" class=\"colab-df-container\">\n",
              "    <div>\n",
              "<style scoped>\n",
              "    .dataframe tbody tr th:only-of-type {\n",
              "        vertical-align: middle;\n",
              "    }\n",
              "\n",
              "    .dataframe tbody tr th {\n",
              "        vertical-align: top;\n",
              "    }\n",
              "\n",
              "    .dataframe thead th {\n",
              "        text-align: right;\n",
              "    }\n",
              "</style>\n",
              "<table border=\"1\" class=\"dataframe\">\n",
              "  <thead>\n",
              "    <tr style=\"text-align: right;\">\n",
              "      <th></th>\n",
              "      <th>id</th>\n",
              "      <th>alias</th>\n",
              "      <th>name</th>\n",
              "      <th>image_url</th>\n",
              "      <th>is_closed</th>\n",
              "      <th>url</th>\n",
              "      <th>review_count</th>\n",
              "      <th>categories</th>\n",
              "      <th>rating</th>\n",
              "      <th>coordinates</th>\n",
              "      <th>transactions</th>\n",
              "      <th>location</th>\n",
              "      <th>phone</th>\n",
              "      <th>display_phone</th>\n",
              "      <th>distance</th>\n",
              "      <th>business_hours</th>\n",
              "      <th>attributes</th>\n",
              "      <th>price</th>\n",
              "    </tr>\n",
              "  </thead>\n",
              "  <tbody>\n",
              "    <tr>\n",
              "      <th>0</th>\n",
              "      <td>gDFjUfoAdiRYNaHBgAPFhg</td>\n",
              "      <td>little-wolf-edmonton</td>\n",
              "      <td>Little Wolf</td>\n",
              "      <td>https://s3-media2.fl.yelpcdn.com/bphoto/NxC-1n...</td>\n",
              "      <td>False</td>\n",
              "      <td>https://www.yelp.com/biz/little-wolf-edmonton?...</td>\n",
              "      <td>2</td>\n",
              "      <td>[{'alias': 'newcanadian', 'title': 'Canadian (...</td>\n",
              "      <td>4.5</td>\n",
              "      <td>{'latitude': 53.52060631866052, 'longitude': -...</td>\n",
              "      <td>[]</td>\n",
              "      <td>{'address1': '8424 109 Street NW', 'address2':...</td>\n",
              "      <td></td>\n",
              "      <td></td>\n",
              "      <td>934.094295</td>\n",
              "      <td>[]</td>\n",
              "      <td>{'business_temp_closed': None, 'menu_url': Non...</td>\n",
              "      <td>NaN</td>\n",
              "    </tr>\n",
              "    <tr>\n",
              "      <th>1</th>\n",
              "      <td>lEr79JhaO3O1XqBpD2zENg</td>\n",
              "      <td>sauce-caribbean-edmonton</td>\n",
              "      <td>Sauce Caribbean</td>\n",
              "      <td>https://s3-media1.fl.yelpcdn.com/bphoto/M62Fgv...</td>\n",
              "      <td>False</td>\n",
              "      <td>https://www.yelp.com/biz/sauce-caribbean-edmon...</td>\n",
              "      <td>11</td>\n",
              "      <td>[{'alias': 'caribbean', 'title': 'Caribbean'}]</td>\n",
              "      <td>4.6</td>\n",
              "      <td>{'latitude': 53.598365, 'longitude': -113.5729...</td>\n",
              "      <td>[]</td>\n",
              "      <td>{'address1': '13655 St Albert Trail', 'address...</td>\n",
              "      <td>+18254012535</td>\n",
              "      <td>+1 825-401-2535</td>\n",
              "      <td>8791.286039</td>\n",
              "      <td>[{'open': [{'is_overnight': False, 'start': '1...</td>\n",
              "      <td>{'business_temp_closed': None, 'menu_url': Non...</td>\n",
              "      <td>NaN</td>\n",
              "    </tr>\n",
              "    <tr>\n",
              "      <th>2</th>\n",
              "      <td>FgLO3jQX1XjaqILsG3nN1Q</td>\n",
              "      <td>flat-boy-burgers-edmonton</td>\n",
              "      <td>Flat Boy Burgers</td>\n",
              "      <td>https://s3-media4.fl.yelpcdn.com/bphoto/tW6cWk...</td>\n",
              "      <td>False</td>\n",
              "      <td>https://www.yelp.com/biz/flat-boy-burgers-edmo...</td>\n",
              "      <td>17</td>\n",
              "      <td>[{'alias': 'burgers', 'title': 'Burgers'}]</td>\n",
              "      <td>4.8</td>\n",
              "      <td>{'latitude': 53.51450555082495, 'longitude': -...</td>\n",
              "      <td>[]</td>\n",
              "      <td>{'address1': '9908 78 Avenue NW', 'address2': ...</td>\n",
              "      <td>+17802174650</td>\n",
              "      <td>+1 780-217-4650</td>\n",
              "      <td>2190.792114</td>\n",
              "      <td>[{'open': [{'is_overnight': False, 'start': '1...</td>\n",
              "      <td>{'business_temp_closed': None, 'menu_url': 'ht...</td>\n",
              "      <td>NaN</td>\n",
              "    </tr>\n",
              "    <tr>\n",
              "      <th>3</th>\n",
              "      <td>gtXAx_G5j6K1TmuJ2v5Rbg</td>\n",
              "      <td>rge-rd-edmonton</td>\n",
              "      <td>RGE RD</td>\n",
              "      <td>https://s3-media2.fl.yelpcdn.com/bphoto/Br_RNN...</td>\n",
              "      <td>False</td>\n",
              "      <td>https://www.yelp.com/biz/rge-rd-edmonton?adjus...</td>\n",
              "      <td>185</td>\n",
              "      <td>[{'alias': 'newcanadian', 'title': 'Canadian (...</td>\n",
              "      <td>4.3</td>\n",
              "      <td>{'latitude': 53.5507814, 'longitude': -113.533...</td>\n",
              "      <td>[]</td>\n",
              "      <td>{'address1': '10643 - 123 Street', 'address2':...</td>\n",
              "      <td>+17804474577</td>\n",
              "      <td>+1 780-447-4577</td>\n",
              "      <td>2927.754959</td>\n",
              "      <td>[{'open': [{'is_overnight': False, 'start': '1...</td>\n",
              "      <td>{'business_temp_closed': None, 'menu_url': Non...</td>\n",
              "      <td>$$$</td>\n",
              "    </tr>\n",
              "    <tr>\n",
              "      <th>4</th>\n",
              "      <td>dHV02LqcZeVYyKlTO9-Btg</td>\n",
              "      <td>sylv-s-retro-diner-edmonton</td>\n",
              "      <td>Sylv’s Retro Diner</td>\n",
              "      <td>https://s3-media1.fl.yelpcdn.com/bphoto/wiBsym...</td>\n",
              "      <td>False</td>\n",
              "      <td>https://www.yelp.com/biz/sylv-s-retro-diner-ed...</td>\n",
              "      <td>1</td>\n",
              "      <td>[{'alias': 'burgers', 'title': 'Burgers'}]</td>\n",
              "      <td>5.0</td>\n",
              "      <td>{'latitude': 53.48738, 'longitude': -113.45805}</td>\n",
              "      <td>[]</td>\n",
              "      <td>{'address1': '8707 51 Avenue NW', 'address2': ...</td>\n",
              "      <td>+17802032886</td>\n",
              "      <td>+1 780-203-2886</td>\n",
              "      <td>5701.943691</td>\n",
              "      <td>[{'open': [{'is_overnight': False, 'start': '1...</td>\n",
              "      <td>{'business_temp_closed': None, 'menu_url': Non...</td>\n",
              "      <td>NaN</td>\n",
              "    </tr>\n",
              "  </tbody>\n",
              "</table>\n",
              "</div>\n",
              "    <div class=\"colab-df-buttons\">\n",
              "\n",
              "  <div class=\"colab-df-container\">\n",
              "    <button class=\"colab-df-convert\" onclick=\"convertToInteractive('df-4947db0c-459a-4e7d-ab86-8a8b7502cd4e')\"\n",
              "            title=\"Convert this dataframe to an interactive table.\"\n",
              "            style=\"display:none;\">\n",
              "\n",
              "  <svg xmlns=\"http://www.w3.org/2000/svg\" height=\"24px\" viewBox=\"0 -960 960 960\">\n",
              "    <path d=\"M120-120v-720h720v720H120Zm60-500h600v-160H180v160Zm220 220h160v-160H400v160Zm0 220h160v-160H400v160ZM180-400h160v-160H180v160Zm440 0h160v-160H620v160ZM180-180h160v-160H180v160Zm440 0h160v-160H620v160Z\"/>\n",
              "  </svg>\n",
              "    </button>\n",
              "\n",
              "  <style>\n",
              "    .colab-df-container {\n",
              "      display:flex;\n",
              "      gap: 12px;\n",
              "    }\n",
              "\n",
              "    .colab-df-convert {\n",
              "      background-color: #E8F0FE;\n",
              "      border: none;\n",
              "      border-radius: 50%;\n",
              "      cursor: pointer;\n",
              "      display: none;\n",
              "      fill: #1967D2;\n",
              "      height: 32px;\n",
              "      padding: 0 0 0 0;\n",
              "      width: 32px;\n",
              "    }\n",
              "\n",
              "    .colab-df-convert:hover {\n",
              "      background-color: #E2EBFA;\n",
              "      box-shadow: 0px 1px 2px rgba(60, 64, 67, 0.3), 0px 1px 3px 1px rgba(60, 64, 67, 0.15);\n",
              "      fill: #174EA6;\n",
              "    }\n",
              "\n",
              "    .colab-df-buttons div {\n",
              "      margin-bottom: 4px;\n",
              "    }\n",
              "\n",
              "    [theme=dark] .colab-df-convert {\n",
              "      background-color: #3B4455;\n",
              "      fill: #D2E3FC;\n",
              "    }\n",
              "\n",
              "    [theme=dark] .colab-df-convert:hover {\n",
              "      background-color: #434B5C;\n",
              "      box-shadow: 0px 1px 3px 1px rgba(0, 0, 0, 0.15);\n",
              "      filter: drop-shadow(0px 1px 2px rgba(0, 0, 0, 0.3));\n",
              "      fill: #FFFFFF;\n",
              "    }\n",
              "  </style>\n",
              "\n",
              "    <script>\n",
              "      const buttonEl =\n",
              "        document.querySelector('#df-4947db0c-459a-4e7d-ab86-8a8b7502cd4e button.colab-df-convert');\n",
              "      buttonEl.style.display =\n",
              "        google.colab.kernel.accessAllowed ? 'block' : 'none';\n",
              "\n",
              "      async function convertToInteractive(key) {\n",
              "        const element = document.querySelector('#df-4947db0c-459a-4e7d-ab86-8a8b7502cd4e');\n",
              "        const dataTable =\n",
              "          await google.colab.kernel.invokeFunction('convertToInteractive',\n",
              "                                                    [key], {});\n",
              "        if (!dataTable) return;\n",
              "\n",
              "        const docLinkHtml = 'Like what you see? Visit the ' +\n",
              "          '<a target=\"_blank\" href=https://colab.research.google.com/notebooks/data_table.ipynb>data table notebook</a>'\n",
              "          + ' to learn more about interactive tables.';\n",
              "        element.innerHTML = '';\n",
              "        dataTable['output_type'] = 'display_data';\n",
              "        await google.colab.output.renderOutput(dataTable, element);\n",
              "        const docLink = document.createElement('div');\n",
              "        docLink.innerHTML = docLinkHtml;\n",
              "        element.appendChild(docLink);\n",
              "      }\n",
              "    </script>\n",
              "  </div>\n",
              "\n",
              "\n",
              "<div id=\"df-54cd07e6-6853-4a4a-a17e-f9c802cdf00f\">\n",
              "  <button class=\"colab-df-quickchart\" onclick=\"quickchart('df-54cd07e6-6853-4a4a-a17e-f9c802cdf00f')\"\n",
              "            title=\"Suggest charts\"\n",
              "            style=\"display:none;\">\n",
              "\n",
              "<svg xmlns=\"http://www.w3.org/2000/svg\" height=\"24px\"viewBox=\"0 0 24 24\"\n",
              "     width=\"24px\">\n",
              "    <g>\n",
              "        <path d=\"M19 3H5c-1.1 0-2 .9-2 2v14c0 1.1.9 2 2 2h14c1.1 0 2-.9 2-2V5c0-1.1-.9-2-2-2zM9 17H7v-7h2v7zm4 0h-2V7h2v10zm4 0h-2v-4h2v4z\"/>\n",
              "    </g>\n",
              "</svg>\n",
              "  </button>\n",
              "\n",
              "<style>\n",
              "  .colab-df-quickchart {\n",
              "      --bg-color: #E8F0FE;\n",
              "      --fill-color: #1967D2;\n",
              "      --hover-bg-color: #E2EBFA;\n",
              "      --hover-fill-color: #174EA6;\n",
              "      --disabled-fill-color: #AAA;\n",
              "      --disabled-bg-color: #DDD;\n",
              "  }\n",
              "\n",
              "  [theme=dark] .colab-df-quickchart {\n",
              "      --bg-color: #3B4455;\n",
              "      --fill-color: #D2E3FC;\n",
              "      --hover-bg-color: #434B5C;\n",
              "      --hover-fill-color: #FFFFFF;\n",
              "      --disabled-bg-color: #3B4455;\n",
              "      --disabled-fill-color: #666;\n",
              "  }\n",
              "\n",
              "  .colab-df-quickchart {\n",
              "    background-color: var(--bg-color);\n",
              "    border: none;\n",
              "    border-radius: 50%;\n",
              "    cursor: pointer;\n",
              "    display: none;\n",
              "    fill: var(--fill-color);\n",
              "    height: 32px;\n",
              "    padding: 0;\n",
              "    width: 32px;\n",
              "  }\n",
              "\n",
              "  .colab-df-quickchart:hover {\n",
              "    background-color: var(--hover-bg-color);\n",
              "    box-shadow: 0 1px 2px rgba(60, 64, 67, 0.3), 0 1px 3px 1px rgba(60, 64, 67, 0.15);\n",
              "    fill: var(--button-hover-fill-color);\n",
              "  }\n",
              "\n",
              "  .colab-df-quickchart-complete:disabled,\n",
              "  .colab-df-quickchart-complete:disabled:hover {\n",
              "    background-color: var(--disabled-bg-color);\n",
              "    fill: var(--disabled-fill-color);\n",
              "    box-shadow: none;\n",
              "  }\n",
              "\n",
              "  .colab-df-spinner {\n",
              "    border: 2px solid var(--fill-color);\n",
              "    border-color: transparent;\n",
              "    border-bottom-color: var(--fill-color);\n",
              "    animation:\n",
              "      spin 1s steps(1) infinite;\n",
              "  }\n",
              "\n",
              "  @keyframes spin {\n",
              "    0% {\n",
              "      border-color: transparent;\n",
              "      border-bottom-color: var(--fill-color);\n",
              "      border-left-color: var(--fill-color);\n",
              "    }\n",
              "    20% {\n",
              "      border-color: transparent;\n",
              "      border-left-color: var(--fill-color);\n",
              "      border-top-color: var(--fill-color);\n",
              "    }\n",
              "    30% {\n",
              "      border-color: transparent;\n",
              "      border-left-color: var(--fill-color);\n",
              "      border-top-color: var(--fill-color);\n",
              "      border-right-color: var(--fill-color);\n",
              "    }\n",
              "    40% {\n",
              "      border-color: transparent;\n",
              "      border-right-color: var(--fill-color);\n",
              "      border-top-color: var(--fill-color);\n",
              "    }\n",
              "    60% {\n",
              "      border-color: transparent;\n",
              "      border-right-color: var(--fill-color);\n",
              "    }\n",
              "    80% {\n",
              "      border-color: transparent;\n",
              "      border-right-color: var(--fill-color);\n",
              "      border-bottom-color: var(--fill-color);\n",
              "    }\n",
              "    90% {\n",
              "      border-color: transparent;\n",
              "      border-bottom-color: var(--fill-color);\n",
              "    }\n",
              "  }\n",
              "</style>\n",
              "\n",
              "  <script>\n",
              "    async function quickchart(key) {\n",
              "      const quickchartButtonEl =\n",
              "        document.querySelector('#' + key + ' button');\n",
              "      quickchartButtonEl.disabled = true;  // To prevent multiple clicks.\n",
              "      quickchartButtonEl.classList.add('colab-df-spinner');\n",
              "      try {\n",
              "        const charts = await google.colab.kernel.invokeFunction(\n",
              "            'suggestCharts', [key], {});\n",
              "      } catch (error) {\n",
              "        console.error('Error during call to suggestCharts:', error);\n",
              "      }\n",
              "      quickchartButtonEl.classList.remove('colab-df-spinner');\n",
              "      quickchartButtonEl.classList.add('colab-df-quickchart-complete');\n",
              "    }\n",
              "    (() => {\n",
              "      let quickchartButtonEl =\n",
              "        document.querySelector('#df-54cd07e6-6853-4a4a-a17e-f9c802cdf00f button');\n",
              "      quickchartButtonEl.style.display =\n",
              "        google.colab.kernel.accessAllowed ? 'block' : 'none';\n",
              "    })();\n",
              "  </script>\n",
              "</div>\n",
              "\n",
              "    </div>\n",
              "  </div>\n"
            ],
            "application/vnd.google.colaboratory.intrinsic+json": {
              "type": "dataframe",
              "variable_name": "df",
              "summary": "{\n  \"name\": \"df\",\n  \"rows\": 1452,\n  \"fields\": [\n    {\n      \"column\": \"id\",\n      \"properties\": {\n        \"dtype\": \"string\",\n        \"num_unique_values\": 1291,\n        \"samples\": [\n          \"G0Lhz3IYA56YZ958GkCU7g\",\n          \"l8OnyQwkJDk1qn-NbT5ukg\",\n          \"nEjjekRdD1uoC517YF4IVg\"\n        ],\n        \"semantic_type\": \"\",\n        \"description\": \"\"\n      }\n    },\n    {\n      \"column\": \"alias\",\n      \"properties\": {\n        \"dtype\": \"string\",\n        \"num_unique_values\": 1291,\n        \"samples\": [\n          \"starbucks-edmonton-86\",\n          \"j-and-j-wings-and-seafood-beaumont-2\",\n          \"dennys-sherwood-park\"\n        ],\n        \"semantic_type\": \"\",\n        \"description\": \"\"\n      }\n    },\n    {\n      \"column\": \"name\",\n      \"properties\": {\n        \"dtype\": \"string\",\n        \"num_unique_values\": 1127,\n        \"samples\": [\n          \"Cajun Moon Spirits\",\n          \"The Sombrero\",\n          \"Pizza 73\"\n        ],\n        \"semantic_type\": \"\",\n        \"description\": \"\"\n      }\n    },\n    {\n      \"column\": \"image_url\",\n      \"properties\": {\n        \"dtype\": \"string\",\n        \"num_unique_values\": 1198,\n        \"samples\": [\n          \"https://s3-media1.fl.yelpcdn.com/bphoto/NW3qeyou8qKOFUw8EXsbRQ/o.jpg\",\n          \"https://s3-media3.fl.yelpcdn.com/bphoto/pwR3WSdC1eRWPyNGLlnQQA/o.jpg\",\n          \"https://s3-media3.fl.yelpcdn.com/bphoto/vVEcxARnLe8O5IdEQpx3Lg/o.jpg\"\n        ],\n        \"semantic_type\": \"\",\n        \"description\": \"\"\n      }\n    },\n    {\n      \"column\": \"is_closed\",\n      \"properties\": {\n        \"dtype\": \"boolean\",\n        \"num_unique_values\": 1,\n        \"samples\": [\n          false\n        ],\n        \"semantic_type\": \"\",\n        \"description\": \"\"\n      }\n    },\n    {\n      \"column\": \"url\",\n      \"properties\": {\n        \"dtype\": \"string\",\n        \"num_unique_values\": 1291,\n        \"samples\": [\n          \"https://www.yelp.com/biz/starbucks-edmonton-86?adjust_creative=ZtTpYCdxBFJY4k5vs6nuRw&utm_campaign=yelp_api_v3&utm_medium=api_v3_business_search&utm_source=ZtTpYCdxBFJY4k5vs6nuRw\"\n        ],\n        \"semantic_type\": \"\",\n        \"description\": \"\"\n      }\n    },\n    {\n      \"column\": \"review_count\",\n      \"properties\": {\n        \"dtype\": \"number\",\n        \"std\": 54,\n        \"min\": 0,\n        \"max\": 514,\n        \"num_unique_values\": 163,\n        \"samples\": [\n          103\n        ],\n        \"semantic_type\": \"\",\n        \"description\": \"\"\n      }\n    },\n    {\n      \"column\": \"categories\",\n      \"properties\": {\n        \"dtype\": \"object\",\n        \"semantic_type\": \"\",\n        \"description\": \"\"\n      }\n    },\n    {\n      \"column\": \"rating\",\n      \"properties\": {\n        \"dtype\": \"number\",\n        \"std\": 1.3931125914282925,\n        \"min\": 0.0,\n        \"max\": 5.0,\n        \"num_unique_values\": 42,\n        \"samples\": [\n          3.0\n        ],\n        \"semantic_type\": \"\",\n        \"description\": \"\"\n      }\n    },\n    {\n      \"column\": \"coordinates\",\n      \"properties\": {\n        \"dtype\": \"object\",\n        \"semantic_type\": \"\",\n        \"description\": \"\"\n      }\n    },\n    {\n      \"column\": \"transactions\",\n      \"properties\": {\n        \"dtype\": \"object\",\n        \"semantic_type\": \"\",\n        \"description\": \"\"\n      }\n    },\n    {\n      \"column\": \"location\",\n      \"properties\": {\n        \"dtype\": \"object\",\n        \"semantic_type\": \"\",\n        \"description\": \"\"\n      }\n    },\n    {\n      \"column\": \"phone\",\n      \"properties\": {\n        \"dtype\": \"string\",\n        \"num_unique_values\": 1161,\n        \"samples\": [\n          \"+17804373202\"\n        ],\n        \"semantic_type\": \"\",\n        \"description\": \"\"\n      }\n    },\n    {\n      \"column\": \"display_phone\",\n      \"properties\": {\n        \"dtype\": \"string\",\n        \"num_unique_values\": 1161,\n        \"samples\": [\n          \"+1 780-437-3202\"\n        ],\n        \"semantic_type\": \"\",\n        \"description\": \"\"\n      }\n    },\n    {\n      \"column\": \"distance\",\n      \"properties\": {\n        \"dtype\": \"number\",\n        \"std\": 5607.881915821559,\n        \"min\": 82.98370226840146,\n        \"max\": 28244.376427372157,\n        \"num_unique_values\": 1337,\n        \"samples\": [\n          9435.457566773284\n        ],\n        \"semantic_type\": \"\",\n        \"description\": \"\"\n      }\n    },\n    {\n      \"column\": \"business_hours\",\n      \"properties\": {\n        \"dtype\": \"object\",\n        \"semantic_type\": \"\",\n        \"description\": \"\"\n      }\n    },\n    {\n      \"column\": \"attributes\",\n      \"properties\": {\n        \"dtype\": \"object\",\n        \"semantic_type\": \"\",\n        \"description\": \"\"\n      }\n    },\n    {\n      \"column\": \"price\",\n      \"properties\": {\n        \"dtype\": \"category\",\n        \"num_unique_values\": 4,\n        \"samples\": [\n          \"$$\"\n        ],\n        \"semantic_type\": \"\",\n        \"description\": \"\"\n      }\n    }\n  ]\n}"
            }
          },
          "metadata": {},
          "execution_count": 3
        }
      ],
      "source": [
        "import requests\n",
        "import pandas as pd\n",
        "\n",
        "#initiating a an empty-list to collect all data before making a dataframe\n",
        "EdmontonBusinesses = []\n",
        "\n",
        "# Search parameters\n",
        "\n",
        "terms = ['restaurants', 'bars', 'cafes']\n",
        "locations = ['Edmonton', 'Sherwood Park', 'Beaumont']\n",
        "maximum_radius = 15000 #15km range\n",
        "max_data_per_request = 50\n",
        "required_results = 1000\n",
        "max_offset = 40  # Choosing offset as 40; to make it under 6 requests (40 x 6 = 240)\n",
        "total_results_per_term = 240  # Max results retrievable per term\n",
        "\n",
        "for location in locations:\n",
        "  \"\"\"\n",
        "  Since we are planning to work with 3 locations\n",
        "  \"\"\"\n",
        "  for term in terms:\n",
        "    \"\"\"\n",
        "    Since we are looking for 3 terms\n",
        "    \"\"\"\n",
        "\n",
        "    for offset in range(0, 240, 40):\n",
        "      \"\"\"\n",
        "      Here we are running offset from 0-1000 with step-size 40\n",
        "      so that with each request it\n",
        "      fetches data index: 0-49, 50-99, 100-149,......, 950-999\n",
        "      \"\"\"\n",
        "      params = {\n",
        "      'location': location,\n",
        "      'term': term,\n",
        "      'limit': 40,\n",
        "      'offset': offset\n",
        "        }\n",
        "\n",
        "\n",
        "      # Making the GET request to Yelp API\n",
        "      response = requests.get(endpoint_url, headers=headers, params=params)\n",
        "      if response.status_code == 200:\n",
        "          data = response.json()\n",
        "          EdmontonBusinesses.extend(data['businesses'])\n",
        "      else:\n",
        "          # Print error message if the request failed\n",
        "          print(f\"Error: Request failed with status code {response.status_code}\")\n",
        "          print(response.text)\n",
        "\n",
        "\n",
        "df = pd.DataFrame(EdmontonBusinesses)\n",
        "\n",
        "# Display the DataFrame\n",
        "df.head()\n"
      ]
    },
    {
      "cell_type": "markdown",
      "source": [
        "# Here we see how many data-points have we retrieved"
      ],
      "metadata": {
        "id": "9tGSQkt9Amgx"
      }
    },
    {
      "source": [
        "df['id'].count()"
      ],
      "cell_type": "code",
      "execution_count": null,
      "outputs": [
        {
          "output_type": "execute_result",
          "data": {
            "text/plain": [
              "1452"
            ]
          },
          "metadata": {},
          "execution_count": 4
        }
      ],
      "metadata": {
        "cellView": "form",
        "colab": {
          "base_uri": "https://localhost:8080/"
        },
        "collapsed": true,
        "id": "Oh1at1hXmVHG",
        "outputId": "f358c495-ee6c-46af-b9f5-f6921f0dca36"
      }
    },
    {
      "cell_type": "markdown",
      "metadata": {
        "id": "SsGqwFtIaN90"
      },
      "source": [
        "1.3 - Save Data to CSV\n",
        "Once the data is collected, save it to a CSV file for future use."
      ]
    },
    {
      "cell_type": "code",
      "source": [
        "df.to_csv('Edm_Yelp_csv_raw.csv')"
      ],
      "metadata": {
        "id": "CIG4eSJmCKwF"
      },
      "execution_count": null,
      "outputs": []
    },
    {
      "cell_type": "markdown",
      "source": [
        "# Now we extract the categories field to make it easily accessible"
      ],
      "metadata": {
        "id": "Etp3L0Ygeeou"
      }
    },
    {
      "cell_type": "code",
      "source": [
        "#Here we use df.explode function to access list elements separately\n",
        "df_exploded = df.explode('categories')\n",
        "print(df_exploded[['name', 'categories']].head(10))"
      ],
      "metadata": {
        "colab": {
          "base_uri": "https://localhost:8080/"
        },
        "id": "IFeXficAZG6m",
        "outputId": "8c0fbe94-57e0-4a56-b67c-adc7cf332fd7"
      },
      "execution_count": null,
      "outputs": [
        {
          "output_type": "stream",
          "name": "stdout",
          "text": [
            "                 name                                         categories\n",
            "0         Little Wolf  {'alias': 'newcanadian', 'title': 'Canadian (N...\n",
            "1     Sauce Caribbean       {'alias': 'caribbean', 'title': 'Caribbean'}\n",
            "2    Flat Boy Burgers           {'alias': 'burgers', 'title': 'Burgers'}\n",
            "3              RGE RD  {'alias': 'newcanadian', 'title': 'Canadian (N...\n",
            "4  Sylv’s Retro Diner           {'alias': 'burgers', 'title': 'Burgers'}\n",
            "5          Leo's Cafe               {'alias': 'cafes', 'title': 'Cafes'}\n",
            "5          Leo's Cafe  {'alias': 'breakfast_brunch', 'title': 'Breakf...\n",
            "5          Leo's Cafe               {'alias': 'pizza', 'title': 'Pizza'}\n",
            "6   Blowers & Grafton  {'alias': 'newcanadian', 'title': 'Canadian (N...\n",
            "7   Campiō Brewing Co     {'alias': 'tradamerican', 'title': 'American'}\n"
          ]
        }
      ]
    },
    {
      "cell_type": "code",
      "source": [
        "#Function to extract just the title value\n",
        "\n",
        "def extract_title(category):\n",
        "    return category['title']\n",
        "\n",
        "df_exploded['categories_title'] = df_exploded['categories'].apply(extract_title)\n",
        "print(df_exploded[['name','categories_title']])"
      ],
      "metadata": {
        "colab": {
          "base_uri": "https://localhost:8080/"
        },
        "id": "4WpxWoKuckMc",
        "outputId": "ad31226d-bbf8-4239-b242-af0c1fa78c5a"
      },
      "execution_count": null,
      "outputs": [
        {
          "output_type": "stream",
          "name": "stdout",
          "text": [
            "                    name categories_title\n",
            "0            Little Wolf   Canadian (New)\n",
            "1        Sauce Caribbean        Caribbean\n",
            "2       Flat Boy Burgers          Burgers\n",
            "3                 RGE RD   Canadian (New)\n",
            "4     Sylv’s Retro Diner          Burgers\n",
            "...                  ...              ...\n",
            "1450          McDonald's          Burgers\n",
            "1450          McDonald's     Coffee & Tea\n",
            "1451          McDonald's        Fast Food\n",
            "1451          McDonald's          Burgers\n",
            "1451          McDonald's     Coffee & Tea\n",
            "\n",
            "[3005 rows x 2 columns]\n"
          ]
        }
      ]
    },
    {
      "cell_type": "code",
      "source": [
        "df_exploded.head()"
      ],
      "metadata": {
        "colab": {
          "base_uri": "https://localhost:8080/",
          "height": 590
        },
        "collapsed": true,
        "id": "ZEFz9Z6UdlKt",
        "outputId": "206c54d1-ae3f-4836-d48a-1cc45223f861"
      },
      "execution_count": null,
      "outputs": [
        {
          "output_type": "execute_result",
          "data": {
            "text/plain": [
              "                       id                        alias                name  \\\n",
              "0  gDFjUfoAdiRYNaHBgAPFhg         little-wolf-edmonton         Little Wolf   \n",
              "1  lEr79JhaO3O1XqBpD2zENg     sauce-caribbean-edmonton     Sauce Caribbean   \n",
              "2  FgLO3jQX1XjaqILsG3nN1Q    flat-boy-burgers-edmonton    Flat Boy Burgers   \n",
              "3  gtXAx_G5j6K1TmuJ2v5Rbg              rge-rd-edmonton              RGE RD   \n",
              "4  dHV02LqcZeVYyKlTO9-Btg  sylv-s-retro-diner-edmonton  Sylv’s Retro Diner   \n",
              "\n",
              "                                           image_url  is_closed  \\\n",
              "0  https://s3-media2.fl.yelpcdn.com/bphoto/NxC-1n...      False   \n",
              "1  https://s3-media1.fl.yelpcdn.com/bphoto/M62Fgv...      False   \n",
              "2  https://s3-media4.fl.yelpcdn.com/bphoto/tW6cWk...      False   \n",
              "3  https://s3-media2.fl.yelpcdn.com/bphoto/Br_RNN...      False   \n",
              "4  https://s3-media1.fl.yelpcdn.com/bphoto/wiBsym...      False   \n",
              "\n",
              "                                                 url  review_count  \\\n",
              "0  https://www.yelp.com/biz/little-wolf-edmonton?...             2   \n",
              "1  https://www.yelp.com/biz/sauce-caribbean-edmon...            11   \n",
              "2  https://www.yelp.com/biz/flat-boy-burgers-edmo...            17   \n",
              "3  https://www.yelp.com/biz/rge-rd-edmonton?adjus...           185   \n",
              "4  https://www.yelp.com/biz/sylv-s-retro-diner-ed...             1   \n",
              "\n",
              "                                          categories  rating  \\\n",
              "0  {'alias': 'newcanadian', 'title': 'Canadian (N...     4.5   \n",
              "1       {'alias': 'caribbean', 'title': 'Caribbean'}     4.6   \n",
              "2           {'alias': 'burgers', 'title': 'Burgers'}     4.8   \n",
              "3  {'alias': 'newcanadian', 'title': 'Canadian (N...     4.3   \n",
              "4           {'alias': 'burgers', 'title': 'Burgers'}     5.0   \n",
              "\n",
              "                                         coordinates transactions  \\\n",
              "0  {'latitude': 53.52060631866052, 'longitude': -...           []   \n",
              "1  {'latitude': 53.598365, 'longitude': -113.5729...           []   \n",
              "2  {'latitude': 53.51450555082495, 'longitude': -...           []   \n",
              "3  {'latitude': 53.5507814, 'longitude': -113.533...           []   \n",
              "4    {'latitude': 53.48738, 'longitude': -113.45805}           []   \n",
              "\n",
              "                                            location         phone  \\\n",
              "0  {'address1': '8424 109 Street NW', 'address2':...                 \n",
              "1  {'address1': '13655 St Albert Trail', 'address...  +18254012535   \n",
              "2  {'address1': '9908 78 Avenue NW', 'address2': ...  +17802174650   \n",
              "3  {'address1': '10643 - 123 Street', 'address2':...  +17804474577   \n",
              "4  {'address1': '8707 51 Avenue NW', 'address2': ...  +17802032886   \n",
              "\n",
              "     display_phone     distance  \\\n",
              "0                    934.094295   \n",
              "1  +1 825-401-2535  8791.286039   \n",
              "2  +1 780-217-4650  2190.792114   \n",
              "3  +1 780-447-4577  2927.754959   \n",
              "4  +1 780-203-2886  5701.943691   \n",
              "\n",
              "                                      business_hours  \\\n",
              "0                                                 []   \n",
              "1  [{'open': [{'is_overnight': False, 'start': '1...   \n",
              "2  [{'open': [{'is_overnight': False, 'start': '1...   \n",
              "3  [{'open': [{'is_overnight': False, 'start': '1...   \n",
              "4  [{'open': [{'is_overnight': False, 'start': '1...   \n",
              "\n",
              "                                          attributes price categories_title  \n",
              "0  {'business_temp_closed': None, 'menu_url': Non...   NaN   Canadian (New)  \n",
              "1  {'business_temp_closed': None, 'menu_url': Non...   NaN        Caribbean  \n",
              "2  {'business_temp_closed': None, 'menu_url': 'ht...   NaN          Burgers  \n",
              "3  {'business_temp_closed': None, 'menu_url': Non...   $$$   Canadian (New)  \n",
              "4  {'business_temp_closed': None, 'menu_url': Non...   NaN          Burgers  "
            ],
            "text/html": [
              "\n",
              "  <div id=\"df-6e0ca0d8-033d-4452-b4b7-13654b202ead\" class=\"colab-df-container\">\n",
              "    <div>\n",
              "<style scoped>\n",
              "    .dataframe tbody tr th:only-of-type {\n",
              "        vertical-align: middle;\n",
              "    }\n",
              "\n",
              "    .dataframe tbody tr th {\n",
              "        vertical-align: top;\n",
              "    }\n",
              "\n",
              "    .dataframe thead th {\n",
              "        text-align: right;\n",
              "    }\n",
              "</style>\n",
              "<table border=\"1\" class=\"dataframe\">\n",
              "  <thead>\n",
              "    <tr style=\"text-align: right;\">\n",
              "      <th></th>\n",
              "      <th>id</th>\n",
              "      <th>alias</th>\n",
              "      <th>name</th>\n",
              "      <th>image_url</th>\n",
              "      <th>is_closed</th>\n",
              "      <th>url</th>\n",
              "      <th>review_count</th>\n",
              "      <th>categories</th>\n",
              "      <th>rating</th>\n",
              "      <th>coordinates</th>\n",
              "      <th>transactions</th>\n",
              "      <th>location</th>\n",
              "      <th>phone</th>\n",
              "      <th>display_phone</th>\n",
              "      <th>distance</th>\n",
              "      <th>business_hours</th>\n",
              "      <th>attributes</th>\n",
              "      <th>price</th>\n",
              "      <th>categories_title</th>\n",
              "    </tr>\n",
              "  </thead>\n",
              "  <tbody>\n",
              "    <tr>\n",
              "      <th>0</th>\n",
              "      <td>gDFjUfoAdiRYNaHBgAPFhg</td>\n",
              "      <td>little-wolf-edmonton</td>\n",
              "      <td>Little Wolf</td>\n",
              "      <td>https://s3-media2.fl.yelpcdn.com/bphoto/NxC-1n...</td>\n",
              "      <td>False</td>\n",
              "      <td>https://www.yelp.com/biz/little-wolf-edmonton?...</td>\n",
              "      <td>2</td>\n",
              "      <td>{'alias': 'newcanadian', 'title': 'Canadian (N...</td>\n",
              "      <td>4.5</td>\n",
              "      <td>{'latitude': 53.52060631866052, 'longitude': -...</td>\n",
              "      <td>[]</td>\n",
              "      <td>{'address1': '8424 109 Street NW', 'address2':...</td>\n",
              "      <td></td>\n",
              "      <td></td>\n",
              "      <td>934.094295</td>\n",
              "      <td>[]</td>\n",
              "      <td>{'business_temp_closed': None, 'menu_url': Non...</td>\n",
              "      <td>NaN</td>\n",
              "      <td>Canadian (New)</td>\n",
              "    </tr>\n",
              "    <tr>\n",
              "      <th>1</th>\n",
              "      <td>lEr79JhaO3O1XqBpD2zENg</td>\n",
              "      <td>sauce-caribbean-edmonton</td>\n",
              "      <td>Sauce Caribbean</td>\n",
              "      <td>https://s3-media1.fl.yelpcdn.com/bphoto/M62Fgv...</td>\n",
              "      <td>False</td>\n",
              "      <td>https://www.yelp.com/biz/sauce-caribbean-edmon...</td>\n",
              "      <td>11</td>\n",
              "      <td>{'alias': 'caribbean', 'title': 'Caribbean'}</td>\n",
              "      <td>4.6</td>\n",
              "      <td>{'latitude': 53.598365, 'longitude': -113.5729...</td>\n",
              "      <td>[]</td>\n",
              "      <td>{'address1': '13655 St Albert Trail', 'address...</td>\n",
              "      <td>+18254012535</td>\n",
              "      <td>+1 825-401-2535</td>\n",
              "      <td>8791.286039</td>\n",
              "      <td>[{'open': [{'is_overnight': False, 'start': '1...</td>\n",
              "      <td>{'business_temp_closed': None, 'menu_url': Non...</td>\n",
              "      <td>NaN</td>\n",
              "      <td>Caribbean</td>\n",
              "    </tr>\n",
              "    <tr>\n",
              "      <th>2</th>\n",
              "      <td>FgLO3jQX1XjaqILsG3nN1Q</td>\n",
              "      <td>flat-boy-burgers-edmonton</td>\n",
              "      <td>Flat Boy Burgers</td>\n",
              "      <td>https://s3-media4.fl.yelpcdn.com/bphoto/tW6cWk...</td>\n",
              "      <td>False</td>\n",
              "      <td>https://www.yelp.com/biz/flat-boy-burgers-edmo...</td>\n",
              "      <td>17</td>\n",
              "      <td>{'alias': 'burgers', 'title': 'Burgers'}</td>\n",
              "      <td>4.8</td>\n",
              "      <td>{'latitude': 53.51450555082495, 'longitude': -...</td>\n",
              "      <td>[]</td>\n",
              "      <td>{'address1': '9908 78 Avenue NW', 'address2': ...</td>\n",
              "      <td>+17802174650</td>\n",
              "      <td>+1 780-217-4650</td>\n",
              "      <td>2190.792114</td>\n",
              "      <td>[{'open': [{'is_overnight': False, 'start': '1...</td>\n",
              "      <td>{'business_temp_closed': None, 'menu_url': 'ht...</td>\n",
              "      <td>NaN</td>\n",
              "      <td>Burgers</td>\n",
              "    </tr>\n",
              "    <tr>\n",
              "      <th>3</th>\n",
              "      <td>gtXAx_G5j6K1TmuJ2v5Rbg</td>\n",
              "      <td>rge-rd-edmonton</td>\n",
              "      <td>RGE RD</td>\n",
              "      <td>https://s3-media2.fl.yelpcdn.com/bphoto/Br_RNN...</td>\n",
              "      <td>False</td>\n",
              "      <td>https://www.yelp.com/biz/rge-rd-edmonton?adjus...</td>\n",
              "      <td>185</td>\n",
              "      <td>{'alias': 'newcanadian', 'title': 'Canadian (N...</td>\n",
              "      <td>4.3</td>\n",
              "      <td>{'latitude': 53.5507814, 'longitude': -113.533...</td>\n",
              "      <td>[]</td>\n",
              "      <td>{'address1': '10643 - 123 Street', 'address2':...</td>\n",
              "      <td>+17804474577</td>\n",
              "      <td>+1 780-447-4577</td>\n",
              "      <td>2927.754959</td>\n",
              "      <td>[{'open': [{'is_overnight': False, 'start': '1...</td>\n",
              "      <td>{'business_temp_closed': None, 'menu_url': Non...</td>\n",
              "      <td>$$$</td>\n",
              "      <td>Canadian (New)</td>\n",
              "    </tr>\n",
              "    <tr>\n",
              "      <th>4</th>\n",
              "      <td>dHV02LqcZeVYyKlTO9-Btg</td>\n",
              "      <td>sylv-s-retro-diner-edmonton</td>\n",
              "      <td>Sylv’s Retro Diner</td>\n",
              "      <td>https://s3-media1.fl.yelpcdn.com/bphoto/wiBsym...</td>\n",
              "      <td>False</td>\n",
              "      <td>https://www.yelp.com/biz/sylv-s-retro-diner-ed...</td>\n",
              "      <td>1</td>\n",
              "      <td>{'alias': 'burgers', 'title': 'Burgers'}</td>\n",
              "      <td>5.0</td>\n",
              "      <td>{'latitude': 53.48738, 'longitude': -113.45805}</td>\n",
              "      <td>[]</td>\n",
              "      <td>{'address1': '8707 51 Avenue NW', 'address2': ...</td>\n",
              "      <td>+17802032886</td>\n",
              "      <td>+1 780-203-2886</td>\n",
              "      <td>5701.943691</td>\n",
              "      <td>[{'open': [{'is_overnight': False, 'start': '1...</td>\n",
              "      <td>{'business_temp_closed': None, 'menu_url': Non...</td>\n",
              "      <td>NaN</td>\n",
              "      <td>Burgers</td>\n",
              "    </tr>\n",
              "  </tbody>\n",
              "</table>\n",
              "</div>\n",
              "    <div class=\"colab-df-buttons\">\n",
              "\n",
              "  <div class=\"colab-df-container\">\n",
              "    <button class=\"colab-df-convert\" onclick=\"convertToInteractive('df-6e0ca0d8-033d-4452-b4b7-13654b202ead')\"\n",
              "            title=\"Convert this dataframe to an interactive table.\"\n",
              "            style=\"display:none;\">\n",
              "\n",
              "  <svg xmlns=\"http://www.w3.org/2000/svg\" height=\"24px\" viewBox=\"0 -960 960 960\">\n",
              "    <path d=\"M120-120v-720h720v720H120Zm60-500h600v-160H180v160Zm220 220h160v-160H400v160Zm0 220h160v-160H400v160ZM180-400h160v-160H180v160Zm440 0h160v-160H620v160ZM180-180h160v-160H180v160Zm440 0h160v-160H620v160Z\"/>\n",
              "  </svg>\n",
              "    </button>\n",
              "\n",
              "  <style>\n",
              "    .colab-df-container {\n",
              "      display:flex;\n",
              "      gap: 12px;\n",
              "    }\n",
              "\n",
              "    .colab-df-convert {\n",
              "      background-color: #E8F0FE;\n",
              "      border: none;\n",
              "      border-radius: 50%;\n",
              "      cursor: pointer;\n",
              "      display: none;\n",
              "      fill: #1967D2;\n",
              "      height: 32px;\n",
              "      padding: 0 0 0 0;\n",
              "      width: 32px;\n",
              "    }\n",
              "\n",
              "    .colab-df-convert:hover {\n",
              "      background-color: #E2EBFA;\n",
              "      box-shadow: 0px 1px 2px rgba(60, 64, 67, 0.3), 0px 1px 3px 1px rgba(60, 64, 67, 0.15);\n",
              "      fill: #174EA6;\n",
              "    }\n",
              "\n",
              "    .colab-df-buttons div {\n",
              "      margin-bottom: 4px;\n",
              "    }\n",
              "\n",
              "    [theme=dark] .colab-df-convert {\n",
              "      background-color: #3B4455;\n",
              "      fill: #D2E3FC;\n",
              "    }\n",
              "\n",
              "    [theme=dark] .colab-df-convert:hover {\n",
              "      background-color: #434B5C;\n",
              "      box-shadow: 0px 1px 3px 1px rgba(0, 0, 0, 0.15);\n",
              "      filter: drop-shadow(0px 1px 2px rgba(0, 0, 0, 0.3));\n",
              "      fill: #FFFFFF;\n",
              "    }\n",
              "  </style>\n",
              "\n",
              "    <script>\n",
              "      const buttonEl =\n",
              "        document.querySelector('#df-6e0ca0d8-033d-4452-b4b7-13654b202ead button.colab-df-convert');\n",
              "      buttonEl.style.display =\n",
              "        google.colab.kernel.accessAllowed ? 'block' : 'none';\n",
              "\n",
              "      async function convertToInteractive(key) {\n",
              "        const element = document.querySelector('#df-6e0ca0d8-033d-4452-b4b7-13654b202ead');\n",
              "        const dataTable =\n",
              "          await google.colab.kernel.invokeFunction('convertToInteractive',\n",
              "                                                    [key], {});\n",
              "        if (!dataTable) return;\n",
              "\n",
              "        const docLinkHtml = 'Like what you see? Visit the ' +\n",
              "          '<a target=\"_blank\" href=https://colab.research.google.com/notebooks/data_table.ipynb>data table notebook</a>'\n",
              "          + ' to learn more about interactive tables.';\n",
              "        element.innerHTML = '';\n",
              "        dataTable['output_type'] = 'display_data';\n",
              "        await google.colab.output.renderOutput(dataTable, element);\n",
              "        const docLink = document.createElement('div');\n",
              "        docLink.innerHTML = docLinkHtml;\n",
              "        element.appendChild(docLink);\n",
              "      }\n",
              "    </script>\n",
              "  </div>\n",
              "\n",
              "\n",
              "<div id=\"df-6903eea4-96d6-4a35-adec-b528372d43ba\">\n",
              "  <button class=\"colab-df-quickchart\" onclick=\"quickchart('df-6903eea4-96d6-4a35-adec-b528372d43ba')\"\n",
              "            title=\"Suggest charts\"\n",
              "            style=\"display:none;\">\n",
              "\n",
              "<svg xmlns=\"http://www.w3.org/2000/svg\" height=\"24px\"viewBox=\"0 0 24 24\"\n",
              "     width=\"24px\">\n",
              "    <g>\n",
              "        <path d=\"M19 3H5c-1.1 0-2 .9-2 2v14c0 1.1.9 2 2 2h14c1.1 0 2-.9 2-2V5c0-1.1-.9-2-2-2zM9 17H7v-7h2v7zm4 0h-2V7h2v10zm4 0h-2v-4h2v4z\"/>\n",
              "    </g>\n",
              "</svg>\n",
              "  </button>\n",
              "\n",
              "<style>\n",
              "  .colab-df-quickchart {\n",
              "      --bg-color: #E8F0FE;\n",
              "      --fill-color: #1967D2;\n",
              "      --hover-bg-color: #E2EBFA;\n",
              "      --hover-fill-color: #174EA6;\n",
              "      --disabled-fill-color: #AAA;\n",
              "      --disabled-bg-color: #DDD;\n",
              "  }\n",
              "\n",
              "  [theme=dark] .colab-df-quickchart {\n",
              "      --bg-color: #3B4455;\n",
              "      --fill-color: #D2E3FC;\n",
              "      --hover-bg-color: #434B5C;\n",
              "      --hover-fill-color: #FFFFFF;\n",
              "      --disabled-bg-color: #3B4455;\n",
              "      --disabled-fill-color: #666;\n",
              "  }\n",
              "\n",
              "  .colab-df-quickchart {\n",
              "    background-color: var(--bg-color);\n",
              "    border: none;\n",
              "    border-radius: 50%;\n",
              "    cursor: pointer;\n",
              "    display: none;\n",
              "    fill: var(--fill-color);\n",
              "    height: 32px;\n",
              "    padding: 0;\n",
              "    width: 32px;\n",
              "  }\n",
              "\n",
              "  .colab-df-quickchart:hover {\n",
              "    background-color: var(--hover-bg-color);\n",
              "    box-shadow: 0 1px 2px rgba(60, 64, 67, 0.3), 0 1px 3px 1px rgba(60, 64, 67, 0.15);\n",
              "    fill: var(--button-hover-fill-color);\n",
              "  }\n",
              "\n",
              "  .colab-df-quickchart-complete:disabled,\n",
              "  .colab-df-quickchart-complete:disabled:hover {\n",
              "    background-color: var(--disabled-bg-color);\n",
              "    fill: var(--disabled-fill-color);\n",
              "    box-shadow: none;\n",
              "  }\n",
              "\n",
              "  .colab-df-spinner {\n",
              "    border: 2px solid var(--fill-color);\n",
              "    border-color: transparent;\n",
              "    border-bottom-color: var(--fill-color);\n",
              "    animation:\n",
              "      spin 1s steps(1) infinite;\n",
              "  }\n",
              "\n",
              "  @keyframes spin {\n",
              "    0% {\n",
              "      border-color: transparent;\n",
              "      border-bottom-color: var(--fill-color);\n",
              "      border-left-color: var(--fill-color);\n",
              "    }\n",
              "    20% {\n",
              "      border-color: transparent;\n",
              "      border-left-color: var(--fill-color);\n",
              "      border-top-color: var(--fill-color);\n",
              "    }\n",
              "    30% {\n",
              "      border-color: transparent;\n",
              "      border-left-color: var(--fill-color);\n",
              "      border-top-color: var(--fill-color);\n",
              "      border-right-color: var(--fill-color);\n",
              "    }\n",
              "    40% {\n",
              "      border-color: transparent;\n",
              "      border-right-color: var(--fill-color);\n",
              "      border-top-color: var(--fill-color);\n",
              "    }\n",
              "    60% {\n",
              "      border-color: transparent;\n",
              "      border-right-color: var(--fill-color);\n",
              "    }\n",
              "    80% {\n",
              "      border-color: transparent;\n",
              "      border-right-color: var(--fill-color);\n",
              "      border-bottom-color: var(--fill-color);\n",
              "    }\n",
              "    90% {\n",
              "      border-color: transparent;\n",
              "      border-bottom-color: var(--fill-color);\n",
              "    }\n",
              "  }\n",
              "</style>\n",
              "\n",
              "  <script>\n",
              "    async function quickchart(key) {\n",
              "      const quickchartButtonEl =\n",
              "        document.querySelector('#' + key + ' button');\n",
              "      quickchartButtonEl.disabled = true;  // To prevent multiple clicks.\n",
              "      quickchartButtonEl.classList.add('colab-df-spinner');\n",
              "      try {\n",
              "        const charts = await google.colab.kernel.invokeFunction(\n",
              "            'suggestCharts', [key], {});\n",
              "      } catch (error) {\n",
              "        console.error('Error during call to suggestCharts:', error);\n",
              "      }\n",
              "      quickchartButtonEl.classList.remove('colab-df-spinner');\n",
              "      quickchartButtonEl.classList.add('colab-df-quickchart-complete');\n",
              "    }\n",
              "    (() => {\n",
              "      let quickchartButtonEl =\n",
              "        document.querySelector('#df-6903eea4-96d6-4a35-adec-b528372d43ba button');\n",
              "      quickchartButtonEl.style.display =\n",
              "        google.colab.kernel.accessAllowed ? 'block' : 'none';\n",
              "    })();\n",
              "  </script>\n",
              "</div>\n",
              "\n",
              "    </div>\n",
              "  </div>\n"
            ],
            "application/vnd.google.colaboratory.intrinsic+json": {
              "type": "dataframe",
              "variable_name": "df_exploded",
              "summary": "{\n  \"name\": \"df_exploded\",\n  \"rows\": 3005,\n  \"fields\": [\n    {\n      \"column\": \"id\",\n      \"properties\": {\n        \"dtype\": \"category\",\n        \"num_unique_values\": 1291,\n        \"samples\": [\n          \"G0Lhz3IYA56YZ958GkCU7g\",\n          \"l8OnyQwkJDk1qn-NbT5ukg\",\n          \"nEjjekRdD1uoC517YF4IVg\"\n        ],\n        \"semantic_type\": \"\",\n        \"description\": \"\"\n      }\n    },\n    {\n      \"column\": \"alias\",\n      \"properties\": {\n        \"dtype\": \"category\",\n        \"num_unique_values\": 1291,\n        \"samples\": [\n          \"starbucks-edmonton-86\",\n          \"j-and-j-wings-and-seafood-beaumont-2\",\n          \"dennys-sherwood-park\"\n        ],\n        \"semantic_type\": \"\",\n        \"description\": \"\"\n      }\n    },\n    {\n      \"column\": \"name\",\n      \"properties\": {\n        \"dtype\": \"category\",\n        \"num_unique_values\": 1127,\n        \"samples\": [\n          \"Cajun Moon Spirits\",\n          \"The Sombrero\",\n          \"Pizza 73\"\n        ],\n        \"semantic_type\": \"\",\n        \"description\": \"\"\n      }\n    },\n    {\n      \"column\": \"image_url\",\n      \"properties\": {\n        \"dtype\": \"category\",\n        \"num_unique_values\": 1198,\n        \"samples\": [\n          \"https://s3-media1.fl.yelpcdn.com/bphoto/NW3qeyou8qKOFUw8EXsbRQ/o.jpg\",\n          \"https://s3-media3.fl.yelpcdn.com/bphoto/pwR3WSdC1eRWPyNGLlnQQA/o.jpg\",\n          \"https://s3-media3.fl.yelpcdn.com/bphoto/vVEcxARnLe8O5IdEQpx3Lg/o.jpg\"\n        ],\n        \"semantic_type\": \"\",\n        \"description\": \"\"\n      }\n    },\n    {\n      \"column\": \"is_closed\",\n      \"properties\": {\n        \"dtype\": \"boolean\",\n        \"num_unique_values\": 1,\n        \"samples\": [\n          false\n        ],\n        \"semantic_type\": \"\",\n        \"description\": \"\"\n      }\n    },\n    {\n      \"column\": \"url\",\n      \"properties\": {\n        \"dtype\": \"category\",\n        \"num_unique_values\": 1291,\n        \"samples\": [\n          \"https://www.yelp.com/biz/starbucks-edmonton-86?adjust_creative=ZtTpYCdxBFJY4k5vs6nuRw&utm_campaign=yelp_api_v3&utm_medium=api_v3_business_search&utm_source=ZtTpYCdxBFJY4k5vs6nuRw\"\n        ],\n        \"semantic_type\": \"\",\n        \"description\": \"\"\n      }\n    },\n    {\n      \"column\": \"review_count\",\n      \"properties\": {\n        \"dtype\": \"number\",\n        \"std\": 58,\n        \"min\": 0,\n        \"max\": 514,\n        \"num_unique_values\": 163,\n        \"samples\": [\n          103\n        ],\n        \"semantic_type\": \"\",\n        \"description\": \"\"\n      }\n    },\n    {\n      \"column\": \"categories\",\n      \"properties\": {\n        \"dtype\": \"object\",\n        \"semantic_type\": \"\",\n        \"description\": \"\"\n      }\n    },\n    {\n      \"column\": \"rating\",\n      \"properties\": {\n        \"dtype\": \"number\",\n        \"std\": 1.389972327327607,\n        \"min\": 0.0,\n        \"max\": 5.0,\n        \"num_unique_values\": 42,\n        \"samples\": [\n          3.0\n        ],\n        \"semantic_type\": \"\",\n        \"description\": \"\"\n      }\n    },\n    {\n      \"column\": \"coordinates\",\n      \"properties\": {\n        \"dtype\": \"object\",\n        \"semantic_type\": \"\",\n        \"description\": \"\"\n      }\n    },\n    {\n      \"column\": \"transactions\",\n      \"properties\": {\n        \"dtype\": \"object\",\n        \"semantic_type\": \"\",\n        \"description\": \"\"\n      }\n    },\n    {\n      \"column\": \"location\",\n      \"properties\": {\n        \"dtype\": \"object\",\n        \"semantic_type\": \"\",\n        \"description\": \"\"\n      }\n    },\n    {\n      \"column\": \"phone\",\n      \"properties\": {\n        \"dtype\": \"category\",\n        \"num_unique_values\": 1161,\n        \"samples\": [\n          \"+17804373202\"\n        ],\n        \"semantic_type\": \"\",\n        \"description\": \"\"\n      }\n    },\n    {\n      \"column\": \"display_phone\",\n      \"properties\": {\n        \"dtype\": \"category\",\n        \"num_unique_values\": 1161,\n        \"samples\": [\n          \"+1 780-437-3202\"\n        ],\n        \"semantic_type\": \"\",\n        \"description\": \"\"\n      }\n    },\n    {\n      \"column\": \"distance\",\n      \"properties\": {\n        \"dtype\": \"number\",\n        \"std\": 5639.004495790768,\n        \"min\": 82.98370226840146,\n        \"max\": 28244.376427372157,\n        \"num_unique_values\": 1337,\n        \"samples\": [\n          9435.457566773284\n        ],\n        \"semantic_type\": \"\",\n        \"description\": \"\"\n      }\n    },\n    {\n      \"column\": \"business_hours\",\n      \"properties\": {\n        \"dtype\": \"object\",\n        \"semantic_type\": \"\",\n        \"description\": \"\"\n      }\n    },\n    {\n      \"column\": \"attributes\",\n      \"properties\": {\n        \"dtype\": \"object\",\n        \"semantic_type\": \"\",\n        \"description\": \"\"\n      }\n    },\n    {\n      \"column\": \"price\",\n      \"properties\": {\n        \"dtype\": \"category\",\n        \"num_unique_values\": 4,\n        \"samples\": [\n          \"$$\"\n        ],\n        \"semantic_type\": \"\",\n        \"description\": \"\"\n      }\n    },\n    {\n      \"column\": \"categories_title\",\n      \"properties\": {\n        \"dtype\": \"category\",\n        \"num_unique_values\": 178,\n        \"samples\": [\n          \"Kebab\"\n        ],\n        \"semantic_type\": \"\",\n        \"description\": \"\"\n      }\n    }\n  ]\n}"
            }
          },
          "metadata": {},
          "execution_count": 8
        }
      ]
    },
    {
      "cell_type": "markdown",
      "source": [
        "# Similarly we now extract the lat. and long. from coordinates field"
      ],
      "metadata": {
        "id": "84kNAyPHeW4l"
      }
    },
    {
      "cell_type": "code",
      "source": [
        "#We create two separate functions to extract latitude & longitude and then we make separate fields to store this information\n",
        "\n",
        "def extract_latitude(coordinate):\n",
        "    return coordinate['latitude']\n",
        "\n",
        "def extract_longitude(coordinate):\n",
        "  return coordinate['longitude']\n",
        "\n",
        "df_exploded['latitude'] = df_exploded['coordinates'].apply(extract_latitude)\n",
        "df_exploded['longitude'] = df_exploded['coordinates'].apply(extract_longitude)\n",
        "print(df_exploded[['name','latitude', 'longitude']])"
      ],
      "metadata": {
        "colab": {
          "base_uri": "https://localhost:8080/"
        },
        "id": "LHqbZxc2e0dQ",
        "outputId": "c0b8932e-981c-4a39-997c-379058098430"
      },
      "execution_count": null,
      "outputs": [
        {
          "output_type": "stream",
          "name": "stdout",
          "text": [
            "                    name   latitude   longitude\n",
            "0            Little Wolf  53.520606 -113.512520\n",
            "1        Sauce Caribbean  53.598365 -113.572962\n",
            "2       Flat Boy Burgers  53.514506 -113.486606\n",
            "3                 RGE RD  53.550781 -113.533804\n",
            "4     Sylv’s Retro Diner  53.487380 -113.458050\n",
            "...                  ...        ...         ...\n",
            "1450          McDonald's  29.956584  -94.006904\n",
            "1450          McDonald's  29.956584  -94.006904\n",
            "1451          McDonald's  29.942135  -93.989900\n",
            "1451          McDonald's  29.942135  -93.989900\n",
            "1451          McDonald's  29.942135  -93.989900\n",
            "\n",
            "[3005 rows x 3 columns]\n"
          ]
        }
      ]
    },
    {
      "cell_type": "code",
      "source": [
        "##Now we make a separate dataframe with only the required fields to pass into our spark sql\n",
        "\n",
        "EdmontonBusinesses_spark = df_exploded[['id', 'name', 'categories_title', 'latitude', 'longitude', 'rating', 'review_count', 'location', \"price\"]]"
      ],
      "metadata": {
        "id": "dtULsGwnfoKZ"
      },
      "execution_count": null,
      "outputs": []
    },
    {
      "cell_type": "code",
      "source": [
        "businesses_filtered = EdmontonBusinesses_spark[['name','categories_title','latitude', 'longitude', 'rating', 'review_count']]\n",
        "businesses_filtered.to_excel('businesses_filtered.xlsx', index=False)"
      ],
      "metadata": {
        "id": "pgtoy0nITea2"
      },
      "execution_count": null,
      "outputs": []
    },
    {
      "cell_type": "code",
      "source": [
        "EdmontonBusinesses_spark['id'].count()\n",
        "EdmontonBusinesses_spark.to_csv('Edm_Buss_raw.csv')"
      ],
      "metadata": {
        "id": "hvRZA8BQo5mm"
      },
      "execution_count": null,
      "outputs": []
    },
    {
      "cell_type": "code",
      "source": [
        "EdmontonBusinesses_spark_unique = EdmontonBusinesses_spark.drop_duplicates(subset=['id'])\n",
        "EdmontonBusinesses_spark_unique['id'].count()"
      ],
      "metadata": {
        "colab": {
          "base_uri": "https://localhost:8080/"
        },
        "id": "THONpK1i6aUw",
        "outputId": "f3550552-947b-4a86-83e2-1b8d440bb28c"
      },
      "execution_count": null,
      "outputs": [
        {
          "output_type": "execute_result",
          "data": {
            "text/plain": [
              "1291"
            ]
          },
          "metadata": {},
          "execution_count": 12
        }
      ]
    },
    {
      "cell_type": "markdown",
      "metadata": {
        "id": "G0pM21WPaUrz"
      },
      "source": [
        "**1.4 - Business Idea Explanation**\n",
        "\n",
        "In this section, I explain a business idea and why the data points (like business name, rating, price, etc.) are important for the application."
      ]
    },
    {
      "cell_type": "markdown",
      "metadata": {
        "id": "aZv2wzrua9T8"
      },
      "source": [
        "### Business Idea: Name-- \"QuickSort\"\n",
        "I  plan to help suppliers of restaurants to reach their customers faster. With the given data, locate the clusters of restaurants in different parts of Edmonton and create Dark Stores in those areas with food storage areas available for rent.\n",
        "\n",
        "Unique Selling Point: With the available data we **strategically locate our dark stores** closest to particular categories of restaurants helping us to provide \"**Under 15 minute Delivery**\" so that restaurants do not have to store excess raw materials and can receive fresh ingredients whenever needed. *italicized text*\n",
        "\n",
        "\n",
        "\n",
        "\n"
      ]
    },
    {
      "cell_type": "markdown",
      "metadata": {
        "id": "MTzGgbA4hl2d"
      },
      "source": [
        "# **Part Two: Data Management with Apache Spark**\n",
        "**2.1- Setting Up PySpark**\n",
        "\n",
        "Now that we have the Yelp data, we'll set up Apache Spark to handle large datasets."
      ]
    },
    {
      "cell_type": "code",
      "source": [
        "!pip install pyspark\n",
        "!pip install findspark"
      ],
      "metadata": {
        "colab": {
          "base_uri": "https://localhost:8080/"
        },
        "id": "K0q12plB606R",
        "outputId": "f24a35ea-2f23-42f1-9ecb-6aebc77cc294"
      },
      "execution_count": null,
      "outputs": [
        {
          "output_type": "stream",
          "name": "stdout",
          "text": [
            "Requirement already satisfied: pyspark in /usr/local/lib/python3.10/dist-packages (3.5.3)\n",
            "Requirement already satisfied: py4j==0.10.9.7 in /usr/local/lib/python3.10/dist-packages (from pyspark) (0.10.9.7)\n",
            "Collecting findspark\n",
            "  Downloading findspark-2.0.1-py2.py3-none-any.whl.metadata (352 bytes)\n",
            "Downloading findspark-2.0.1-py2.py3-none-any.whl (4.4 kB)\n",
            "Installing collected packages: findspark\n",
            "Successfully installed findspark-2.0.1\n"
          ]
        }
      ]
    },
    {
      "cell_type": "code",
      "execution_count": null,
      "metadata": {
        "id": "FMWP5JDGhoam",
        "colab": {
          "base_uri": "https://localhost:8080/",
          "height": 219
        },
        "outputId": "45f19839-eee5-4881-e96f-4c1caacd0c6c"
      },
      "outputs": [
        {
          "output_type": "execute_result",
          "data": {
            "text/plain": [
              "<pyspark.sql.session.SparkSession at 0x7e7a32aa9bd0>"
            ],
            "text/html": [
              "\n",
              "            <div>\n",
              "                <p><b>SparkSession - in-memory</b></p>\n",
              "                \n",
              "        <div>\n",
              "            <p><b>SparkContext</b></p>\n",
              "\n",
              "            <p><a href=\"http://7d8283abad2d:4040\">Spark UI</a></p>\n",
              "\n",
              "            <dl>\n",
              "              <dt>Version</dt>\n",
              "                <dd><code>v3.5.3</code></dd>\n",
              "              <dt>Master</dt>\n",
              "                <dd><code>local[*]</code></dd>\n",
              "              <dt>AppName</dt>\n",
              "                <dd><code>FinalProject</code></dd>\n",
              "            </dl>\n",
              "        </div>\n",
              "        \n",
              "            </div>\n",
              "        "
            ]
          },
          "metadata": {},
          "execution_count": 14
        }
      ],
      "source": [
        "# Importing necessary libraries for PySpark\n",
        "import findspark\n",
        "findspark.init()\n",
        "\n",
        "import pyspark\n",
        "from pyspark.sql import SparkSession\n",
        "\n",
        "# Initialize the Spark session\n",
        "spark = SparkSession.builder.appName('FinalProject').getOrCreate()\n",
        "\n",
        "# Check if Spark session is initialized\n",
        "spark\n"
      ]
    },
    {
      "cell_type": "markdown",
      "metadata": {
        "id": "AkSDupo6hw3f"
      },
      "source": [
        "**2.2 - Loading Data into Spark DataFrame**\n",
        "\n",
        "We'll load the data collected from Yelp into a Spark DataFrame."
      ]
    },
    {
      "cell_type": "code",
      "execution_count": null,
      "metadata": {
        "id": "dk-i4cZSh1fi",
        "colab": {
          "base_uri": "https://localhost:8080/"
        },
        "outputId": "1d149e78-ef27-4af8-bae7-a0609548ea45"
      },
      "outputs": [
        {
          "output_type": "stream",
          "name": "stderr",
          "text": [
            "/usr/local/lib/python3.10/dist-packages/pyspark/sql/dataframe.py:329: FutureWarning: Deprecated in 2.0, use createOrReplaceTempView instead.\n",
            "  warnings.warn(\"Deprecated in 2.0, use createOrReplaceTempView instead.\", FutureWarning)\n"
          ]
        },
        {
          "output_type": "stream",
          "name": "stdout",
          "text": [
            "root\n",
            " |-- id: string (nullable = true)\n",
            " |-- name: string (nullable = true)\n",
            " |-- categories_title: string (nullable = true)\n",
            " |-- latitude: double (nullable = true)\n",
            " |-- longitude: double (nullable = true)\n",
            " |-- rating: double (nullable = true)\n",
            " |-- review_count: long (nullable = true)\n",
            " |-- location: map (nullable = true)\n",
            " |    |-- key: string\n",
            " |    |-- value: string (valueContainsNull = true)\n",
            " |-- price: string (nullable = true)\n",
            "\n",
            "+--------------------+------------------+----------------+-----------------+-------------------+------+------------+--------------------+-----+\n",
            "|                  id|              name|categories_title|         latitude|          longitude|rating|review_count|            location|price|\n",
            "+--------------------+------------------+----------------+-----------------+-------------------+------+------------+--------------------+-----+\n",
            "|gDFjUfoAdiRYNaHBg...|       Little Wolf|  Canadian (New)|53.52060631866052|-113.51252049207687|   4.5|           2|{country -> CA, a...|  NaN|\n",
            "|lEr79JhaO3O1XqBpD...|   Sauce Caribbean|       Caribbean|        53.598365|       -113.5729618|   4.6|          11|{country -> CA, a...|  NaN|\n",
            "|FgLO3jQX1XjaqILsG...|  Flat Boy Burgers|         Burgers|53.51450555082495|-113.48660645767208|   4.8|          17|{country -> CA, a...|  NaN|\n",
            "|gtXAx_G5j6K1TmuJ2...|            RGE RD|  Canadian (New)|       53.5507814|       -113.5338044|   4.3|         185|{country -> CA, a...|  $$$|\n",
            "|dHV02LqcZeVYyKlTO...|Sylv’s Retro Diner|         Burgers|         53.48738|         -113.45805|   5.0|           1|{country -> CA, a...|  NaN|\n",
            "+--------------------+------------------+----------------+-----------------+-------------------+------+------------+--------------------+-----+\n",
            "only showing top 5 rows\n",
            "\n"
          ]
        }
      ],
      "source": [
        "\n",
        "#Loading pandas df as spark df\n",
        "edm_sc = spark.createDataFrame(EdmontonBusinesses_spark_unique)\n",
        "edm_sc.registerTempTable(\"edm_sc\")\n",
        "\n",
        "# Display the schema and preview the data\n",
        "edm_sc.printSchema()\n",
        "edm_sc.show(5)\n"
      ]
    },
    {
      "cell_type": "markdown",
      "metadata": {
        "id": "l-koabNC_UMf"
      },
      "source": [
        "**2.3 - Basic Operations on Data Using Spark DataFrame**\n",
        "\n",
        "Here, you can perform basic transformations and operations, such as filtering, grouping, and aggregating.\n",
        "\n",
        "*   Example: Filtering businesses with a rating greater than 4\n",
        "high_rated_businesses = yelp_data.filter(yelp_data['rating'] > 4)\n",
        "high_rated_businesses.show(5)\n",
        "*   Example: Grouping by category and counting the number of businesses\n",
        "category_counts = yelp_data.groupBy('categories').count()\n",
        "category_counts.show()\n",
        "*   Example: Aggregating by category to calculate the average rating\n",
        "average_rating = yelp_data.groupBy('categories').agg({'rating_count': 'avg'})\n",
        "average_rating.show()"
      ]
    },
    {
      "cell_type": "code",
      "execution_count": null,
      "metadata": {
        "id": "5v3RduUwlOCH",
        "colab": {
          "base_uri": "https://localhost:8080/"
        },
        "collapsed": true,
        "outputId": "811385d2-ecc2-4af4-d666-73f3eeccb46d"
      },
      "outputs": [
        {
          "output_type": "stream",
          "name": "stdout",
          "text": [
            "+--------------------+------------------+----------------+-----------------+-------------------+------+------------+--------------------+-----+\n",
            "|                  id|              name|categories_title|         latitude|          longitude|rating|review_count|            location|price|\n",
            "+--------------------+------------------+----------------+-----------------+-------------------+------+------------+--------------------+-----+\n",
            "|gDFjUfoAdiRYNaHBg...|       Little Wolf|  Canadian (New)|53.52060631866052|-113.51252049207687|   4.5|           2|{country -> CA, a...|  NaN|\n",
            "|lEr79JhaO3O1XqBpD...|   Sauce Caribbean|       Caribbean|        53.598365|       -113.5729618|   4.6|          11|{country -> CA, a...|  NaN|\n",
            "|FgLO3jQX1XjaqILsG...|  Flat Boy Burgers|         Burgers|53.51450555082495|-113.48660645767208|   4.8|          17|{country -> CA, a...|  NaN|\n",
            "|gtXAx_G5j6K1TmuJ2...|            RGE RD|  Canadian (New)|       53.5507814|       -113.5338044|   4.3|         185|{country -> CA, a...|  $$$|\n",
            "|dHV02LqcZeVYyKlTO...|Sylv’s Retro Diner|         Burgers|         53.48738|         -113.45805|   5.0|           1|{country -> CA, a...|  NaN|\n",
            "+--------------------+------------------+----------------+-----------------+-------------------+------+------------+--------------------+-----+\n",
            "only showing top 5 rows\n",
            "\n",
            "+--------------------+\n",
            "|    categories_title|\n",
            "+--------------------+\n",
            "|          Bubble Tea|\n",
            "|               Salad|\n",
            "|            Beer Bar|\n",
            "|             Mexican|\n",
            "|         Dance Clubs|\n",
            "|             Turkish|\n",
            "|           Dive Bars|\n",
            "|            Bakeries|\n",
            "|         Gluten-Free|\n",
            "|         Sports Bars|\n",
            "|             Lounges|\n",
            "|          Gastropubs|\n",
            "|             Cabaret|\n",
            "|      Internet Cafes|\n",
            "|           Ethiopian|\n",
            "|                Thai|\n",
            "|          Pool Halls|\n",
            "|        Themed Cafes|\n",
            "|             Waffles|\n",
            "|Paint-Your-Own Po...|\n",
            "+--------------------+\n",
            "only showing top 20 rows\n",
            "\n",
            "+--------------------+-----+\n",
            "|    categories_title|count|\n",
            "+--------------------+-----+\n",
            "|          Bubble Tea|    9|\n",
            "|               Salad|   12|\n",
            "|            Beer Bar|    4|\n",
            "|             Mexican|   42|\n",
            "|         Dance Clubs|    5|\n",
            "|             Turkish|    1|\n",
            "|           Dive Bars|    8|\n",
            "|            Bakeries|   24|\n",
            "|         Gluten-Free|    1|\n",
            "|         Sports Bars|   33|\n",
            "|             Lounges|   25|\n",
            "|          Gastropubs|    5|\n",
            "|             Cabaret|    1|\n",
            "|      Internet Cafes|    1|\n",
            "|           Ethiopian|    3|\n",
            "|                Thai|   11|\n",
            "|          Pool Halls|    6|\n",
            "|        Themed Cafes|    3|\n",
            "|             Waffles|    2|\n",
            "|Paint-Your-Own Po...|    1|\n",
            "+--------------------+-----+\n",
            "only showing top 20 rows\n",
            "\n",
            "+--------------------+\n",
            "|    categories_title|\n",
            "+--------------------+\n",
            "|          Bubble Tea|\n",
            "|               Salad|\n",
            "|            Beer Bar|\n",
            "|             Mexican|\n",
            "|         Dance Clubs|\n",
            "|             Turkish|\n",
            "|           Dive Bars|\n",
            "|            Bakeries|\n",
            "|         Gluten-Free|\n",
            "|         Sports Bars|\n",
            "|             Lounges|\n",
            "|          Gastropubs|\n",
            "|             Cabaret|\n",
            "|      Internet Cafes|\n",
            "|           Ethiopian|\n",
            "|                Thai|\n",
            "|          Pool Halls|\n",
            "|        Themed Cafes|\n",
            "|             Waffles|\n",
            "|Paint-Your-Own Po...|\n",
            "+--------------------+\n",
            "only showing top 20 rows\n",
            "\n",
            "+--------------------+--------------------+--------------------+------------------+-------------------+------+------------+--------------------+-----+\n",
            "|                  id|                name|    categories_title|          latitude|          longitude|rating|review_count|            location|price|\n",
            "+--------------------+--------------------+--------------------+------------------+-------------------+------+------------+--------------------+-----+\n",
            "|96SLSgJ9elBv_2bvq...|Baekjeong Korean BBQ|              Korean|        53.5419989|       -113.6107758|   5.0|           6|{country -> CA, a...|  NaN|\n",
            "|dR7Lj4UyNlyppy7mv...|           Edo Japan|            Japanese|53.511584320571984|  -113.312427778484|   5.0|           1|{country -> CA, a...|  NaN|\n",
            "|-jqZKflff1oagRdl2...|Ashford House Pub...|                Pubs|        53.5514782|       -113.5298359|   5.0|           4|{country -> CA, a...|  NaN|\n",
            "|uOOkO8OghNZnnjE0f...|     Mikee’s kitchen|  Breakfast & Brunch| 30.12456960060377| -94.11800048406144|   5.0|           2|{country -> US, a...|  NaN|\n",
            "|GKl_n_qbXVEafc-nw...|             Grillyz|             Burgers|53.518300141413114|-113.49992171812814|   5.0|           1|{country -> CA, a...|  NaN|\n",
            "|xcDuI6rU66MkM-SVB...|          Vedic Teas|Coffee & Tea Supp...|          53.53449|         -113.32862|   5.0|           1|{country -> CA, a...|  NaN|\n",
            "|EOvm_atjKDKln-m1l...| Pharaohs Restaurant|            Egyptian| 53.49243559912044|-113.49824845790864|   5.0|           2|{country -> CA, a...|  NaN|\n",
            "|PZIg2nhUOMfEMiP6Y...|ZIGLE Korean Bulg...|              Korean|        53.5380816|       -113.3212034|   5.0|           1|{country -> CA, a...|  NaN|\n",
            "|dHV02LqcZeVYyKlTO...|  Sylv’s Retro Diner|             Burgers|          53.48738|         -113.45805|   5.0|           1|{country -> CA, a...|  NaN|\n",
            "|NK4eLacJal-s_WgFO...|Mamma Tia's Mex-I...|             Italian|         30.083066|         -94.154935|   5.0|           2|{country -> US, a...|  NaN|\n",
            "+--------------------+--------------------+--------------------+------------------+-------------------+------+------------+--------------------+-----+\n",
            "\n",
            "+--------------------+-----+\n",
            "|    categories_title|count|\n",
            "+--------------------+-----+\n",
            "|          Bubble Tea|    9|\n",
            "|               Salad|   12|\n",
            "|            Beer Bar|    4|\n",
            "|             Mexican|   42|\n",
            "|         Dance Clubs|    5|\n",
            "|             Turkish|    1|\n",
            "|           Dive Bars|    8|\n",
            "|            Bakeries|   24|\n",
            "|         Gluten-Free|    1|\n",
            "|         Sports Bars|   33|\n",
            "|             Lounges|   25|\n",
            "|          Gastropubs|    5|\n",
            "|             Cabaret|    1|\n",
            "|      Internet Cafes|    1|\n",
            "|           Ethiopian|    3|\n",
            "|                Thai|   11|\n",
            "|          Pool Halls|    6|\n",
            "|        Themed Cafes|    3|\n",
            "|             Waffles|    2|\n",
            "|Paint-Your-Own Po...|    1|\n",
            "+--------------------+-----+\n",
            "only showing top 20 rows\n",
            "\n",
            "+--------------------+------------------+\n",
            "|    categories_title| avg(review_count)|\n",
            "+--------------------+------------------+\n",
            "|          Bubble Tea| 7.777777777777778|\n",
            "|               Salad|              6.25|\n",
            "|            Beer Bar|              24.5|\n",
            "|             Mexican|39.142857142857146|\n",
            "|         Dance Clubs|              13.8|\n",
            "|             Turkish|              83.0|\n",
            "|           Dive Bars|              11.5|\n",
            "|            Bakeries|31.166666666666668|\n",
            "|         Gluten-Free|              17.0|\n",
            "|         Sports Bars|27.484848484848484|\n",
            "|             Lounges|             24.44|\n",
            "|          Gastropubs|             111.8|\n",
            "|             Cabaret|              30.0|\n",
            "|      Internet Cafes|               0.0|\n",
            "|           Ethiopian|12.333333333333334|\n",
            "|                Thai| 42.18181818181818|\n",
            "|          Pool Halls|15.166666666666666|\n",
            "|        Themed Cafes|20.666666666666668|\n",
            "|             Waffles|               6.0|\n",
            "|Paint-Your-Own Po...|               8.0|\n",
            "+--------------------+------------------+\n",
            "only showing top 20 rows\n",
            "\n"
          ]
        }
      ],
      "source": [
        "# Filtering businesses with a rating greater than 4\n",
        "high_rated_businesses = edm_sc.filter(edm_sc['rating'] > 4)\n",
        "high_rated_businesses.show(5)\n",
        "\n",
        "# Find the unique values reducing redundancy\n",
        "unique_categories = edm_sc.select('categories_title').distinct()\n",
        "unique_categories.show()\n",
        "\n",
        "# Grouping by category and counting the number of businesses\n",
        "category_counts = edm_sc.groupBy('categories_title').count()\n",
        "category_counts.show()\n",
        "\n",
        "# Finding unique categories and order them by total rating count\n",
        "unique_categories = edm_sc.select('categories_title').distinct()\n",
        "unique_categories.show()\n",
        "\n",
        "# Finding top ten restaurants by reivew count then order by rating in desc\n",
        "top_ten_restaurants = edm_sc.orderBy(edm_sc['rating'].desc()).limit(10)\n",
        "top_ten_restaurants.show()\n",
        "\n",
        "# Grouping by categories and find which categories have most restaurants\n",
        "category_counts = edm_sc.groupBy('categories_title').count()\n",
        "category_counts.show()\n",
        "\n",
        "# Aggregating by avg rating\n",
        "average_rating = edm_sc.groupBy('categories_title').agg({'review_count': 'avg'})\n",
        "average_rating.show()\n",
        "\n"
      ]
    },
    {
      "cell_type": "markdown",
      "source": [
        "**From above we see that which types of restaurants does Edmonton have the most, so we can have an idea whom should we target first**"
      ],
      "metadata": {
        "id": "ma57tU-GSfQm"
      }
    },
    {
      "cell_type": "markdown",
      "metadata": {
        "id": "BcJW-qmOkOYG"
      },
      "source": [
        "### Part Three: Data Analysis Using Spark SQL\n",
        "**3.1 - Register DataFrame as Temp View**\n",
        "\n",
        "We need to register the Spark DataFrame as a temporary SQL view to run SQL queries."
      ]
    },
    {
      "cell_type": "markdown",
      "metadata": {
        "id": "efq8l3PJlR0W"
      },
      "source": [
        "**3.2 - Spark SQL Queries for Data Analysis**\n",
        "\n",
        "Now, we can perform SQL queries to analyze the Yelp data. You need to perform an analysis of your data using Spark SQL and you should perform **a minimum of 10 SQL operations** to gain meaningful insights from the data you extraction from part one."
      ]
    },
    {
      "cell_type": "code",
      "execution_count": null,
      "metadata": {
        "id": "O3rWVEjQlZW5",
        "colab": {
          "base_uri": "https://localhost:8080/"
        },
        "outputId": "6534c839-06cb-443c-82f0-89c0b7d3f8e5"
      },
      "outputs": [
        {
          "output_type": "stream",
          "name": "stdout",
          "text": [
            "+------------------+-------------+------------+\n",
            "|  categories_title|total_reviews|total_places|\n",
            "+------------------+-------------+------------+\n",
            "|      Coffee & Tea|         1875|         140|\n",
            "|             Cafes|         1616|          79|\n",
            "|              Pubs|         1933|          66|\n",
            "|             Pizza|         1227|          48|\n",
            "|         Fast Food|          402|          47|\n",
            "|           Mexican|         1644|          42|\n",
            "|              Bars|          908|          41|\n",
            "|Breakfast & Brunch|         1809|          34|\n",
            "|       Sports Bars|          907|          33|\n",
            "|           Chinese|          810|          29|\n",
            "|    Canadian (New)|         2289|          29|\n",
            "|           Burgers|         1071|          28|\n",
            "|           Seafood|         1797|          28|\n",
            "|           Lounges|          611|          25|\n",
            "|           Italian|         1265|          25|\n",
            "|          Bakeries|          748|          24|\n",
            "|        Vietnamese|          947|          23|\n",
            "|            Indian|          545|          23|\n",
            "|        Sandwiches|          477|          21|\n",
            "|          Japanese|          760|          20|\n",
            "+------------------+-------------+------------+\n",
            "only showing top 20 rows\n",
            "\n"
          ]
        }
      ],
      "source": [
        "#Finding top categories\n",
        "\n",
        "category_query = (\n",
        "              \"\"\"\n",
        "              select categories_title, sum(review_count) as total_reviews, count(id) as total_places\n",
        "              from edm_sc\n",
        "              group by categories_title\n",
        "              order by total_places desc\n",
        "              \"\"\"\n",
        ")\n",
        "\n",
        "spark.sql(category_query).show()"
      ]
    },
    {
      "cell_type": "code",
      "source": [
        "edm_sc.printSchema()"
      ],
      "metadata": {
        "colab": {
          "base_uri": "https://localhost:8080/"
        },
        "id": "Kknug9GAktIh",
        "outputId": "40616baf-aeaf-4868-f8d0-9714aa939d62"
      },
      "execution_count": null,
      "outputs": [
        {
          "output_type": "stream",
          "name": "stdout",
          "text": [
            "root\n",
            " |-- id: string (nullable = true)\n",
            " |-- name: string (nullable = true)\n",
            " |-- categories_title: string (nullable = true)\n",
            " |-- latitude: double (nullable = true)\n",
            " |-- longitude: double (nullable = true)\n",
            " |-- rating: double (nullable = true)\n",
            " |-- review_count: long (nullable = true)\n",
            " |-- location: map (nullable = true)\n",
            " |    |-- key: string\n",
            " |    |-- value: string (valueContainsNull = true)\n",
            " |-- price: string (nullable = true)\n",
            "\n"
          ]
        }
      ]
    },
    {
      "cell_type": "markdown",
      "source": [
        "# This query gives us an idea which type of restaurants in price range should we target first"
      ],
      "metadata": {
        "id": "PZBDlycqlC0c"
      }
    },
    {
      "cell_type": "code",
      "source": [
        "# Example SQL Query: Count the number of businesses by price range\n",
        "price_range_counts = spark.sql(\"\"\"\n",
        "SELECT price, COUNT(*) as num_businesses\n",
        "FROM edm_sc\n",
        "GROUP BY price\n",
        "\"\"\")\n",
        "price_range_counts.show()\n"
      ],
      "metadata": {
        "colab": {
          "base_uri": "https://localhost:8080/"
        },
        "id": "YKJgciqSi6j8",
        "outputId": "d64476a9-005d-4b7a-c7e3-dfb0d25176c1"
      },
      "execution_count": null,
      "outputs": [
        {
          "output_type": "stream",
          "name": "stdout",
          "text": [
            "+-----+--------------+\n",
            "|price|num_businesses|\n",
            "+-----+--------------+\n",
            "|   $$|           425|\n",
            "|  $$$|            32|\n",
            "| $$$$|             6|\n",
            "|  NaN|           673|\n",
            "|    $|           155|\n",
            "+-----+--------------+\n",
            "\n"
          ]
        }
      ]
    },
    {
      "cell_type": "markdown",
      "source": [],
      "metadata": {
        "id": "YrXfb3jhlCAI"
      }
    },
    {
      "cell_type": "code",
      "source": [
        "# Example SQL Query: Filter businesses with the '$' price range - indicating affordable businesses.\n",
        "yelp_data_with_price_class = spark.sql(\"\"\"\n",
        "    SELECT *\n",
        "    FROM edm_sc\n",
        "    WHERE price IN ('$')\n",
        "\"\"\")\n",
        "yelp_data_with_price_class.show(5)"
      ],
      "metadata": {
        "colab": {
          "base_uri": "https://localhost:8080/"
        },
        "id": "mga8Z9U8i9qR",
        "outputId": "98a26c5c-8abc-4827-b557-c2eef2a34e1f"
      },
      "execution_count": null,
      "outputs": [
        {
          "output_type": "stream",
          "name": "stdout",
          "text": [
            "+--------------------+--------------------+----------------+----------------+-----------------+------+------------+--------------------+-----+\n",
            "|                  id|                name|categories_title|        latitude|        longitude|rating|review_count|            location|price|\n",
            "+--------------------+--------------------+----------------+----------------+-----------------+------+------------+--------------------+-----+\n",
            "|vTA6PStb6lwcF7PrG...|        Y-Not Indian|       Fast Food|      53.5414593|     -113.4929942|   4.7|          22|{country -> CA, a...|    $|\n",
            "|gYEAlVIHZMeUFlU9b...|         MyEmpanadas|       Argentine|      53.4788499|     -113.5285351|   4.2|          26|{country -> CA, a...|    $|\n",
            "|shTUDVEFYbEgECznT...|Boot Scootin' Boo...|    Music Venues|        53.58805|       -113.41865|   2.7|           3|{country -> CA, a...|    $|\n",
            "|Gvm3XqmP2jiEMkBUf...|      The Rig Lounge|         Lounges|      53.5410995|       -113.58358|   4.0|           1|{country -> CA, a...|    $|\n",
            "|m3QxnCt9TW9ZLLu_H...|               R Pub|         Karaoke|53.6298595814704|-113.497895358316|   3.0|           3|{country -> CA, a...|    $|\n",
            "+--------------------+--------------------+----------------+----------------+-----------------+------+------------+--------------------+-----+\n",
            "only showing top 5 rows\n",
            "\n"
          ]
        }
      ]
    },
    {
      "cell_type": "code",
      "source": [
        "# SQL Query: Get the top 5 affordable businesses\n",
        "top_affordable_businesses = spark.sql(\"\"\"\n",
        "SELECT name, rating, price, location\n",
        "FROM edm_sc\n",
        "WHERE price IN ('$')\n",
        "ORDER BY rating DESC\n",
        "LIMIT 10\n",
        "\"\"\")\n",
        "top_affordable_businesses.show()"
      ],
      "metadata": {
        "colab": {
          "base_uri": "https://localhost:8080/"
        },
        "id": "X64Y3v-blTDD",
        "outputId": "8c520cb6-6794-448a-e0b8-0a2d360c76d9"
      },
      "execution_count": null,
      "outputs": [
        {
          "output_type": "stream",
          "name": "stdout",
          "text": [
            "+--------------------+------+-----+--------------------+\n",
            "|                name|rating|price|            location|\n",
            "+--------------------+------+-----+--------------------+\n",
            "|         Tim Hortons|   5.0|    $|{country -> CA, a...|\n",
            "|           Starbucks|   5.0|    $|{country -> US, a...|\n",
            "|Mike's Old Fashio...|   4.9|    $|{country -> US, a...|\n",
            "|     Rogers BBQ Barn|   4.9|    $|{country -> US, a...|\n",
            "|Doug Nelson Cafe ...|   4.8|    $|{country -> US, a...|\n",
            "|        Y-Not Indian|   4.7|    $|{country -> CA, a...|\n",
            "|        Happy Donuts|   4.7|    $|{country -> US, a...|\n",
            "|The Hexagon Board...|   4.7|    $|{country -> CA, a...|\n",
            "|       Rockin A Cafe|   4.6|    $|{country -> US, a...|\n",
            "|  Perks Coffee House|   4.6|    $|{country -> CA, a...|\n",
            "+--------------------+------+-----+--------------------+\n",
            "\n"
          ]
        }
      ]
    },
    {
      "cell_type": "code",
      "source": [
        "# SQL Query: Top 5 most visited businesses\n",
        "top_visited_businesses = spark.sql(\"\"\"\n",
        "SELECT name, rating, price, location\n",
        "FROM edm_sc\n",
        "ORDER BY rating DESC\n",
        "LIMIT 5\n",
        "\"\"\")\n",
        "top_visited_businesses.show()"
      ],
      "metadata": {
        "colab": {
          "base_uri": "https://localhost:8080/"
        },
        "id": "ka0BdLnXlb2Q",
        "outputId": "4ce7101e-8052-49ab-d64d-c83da0791faf"
      },
      "execution_count": null,
      "outputs": [
        {
          "output_type": "stream",
          "name": "stdout",
          "text": [
            "+--------------------+------+-----+--------------------+\n",
            "|                name|rating|price|            location|\n",
            "+--------------------+------+-----+--------------------+\n",
            "|           Krew Cafe|   5.0|  NaN|{country -> CA, a...|\n",
            "|       Lucky Kitchen|   5.0|  NaN|{country -> CA, a...|\n",
            "|ZIGLE Korean Bulg...|   5.0|  NaN|{country -> CA, a...|\n",
            "|Ashford House Pub...|   5.0|  NaN|{country -> CA, a...|\n",
            "|             The Koi|   5.0|  NaN|{country -> CA, a...|\n",
            "+--------------------+------+-----+--------------------+\n",
            "\n"
          ]
        }
      ]
    },
    {
      "cell_type": "code",
      "source": [
        "# SQL Query: High rated businesses in the italian category\n",
        "high_rated_italian_businesses = spark.sql(\"\"\"\n",
        "SELECT name, rating, price, location\n",
        "FROM edm_sc\n",
        "WHERE categories_title LIKE '%Italian%' AND rating > 4\n",
        "\"\"\")\n",
        "high_rated_italian_businesses.show()"
      ],
      "metadata": {
        "colab": {
          "base_uri": "https://localhost:8080/"
        },
        "id": "rHf20Xuklu-P",
        "outputId": "97de4dc0-6453-42ad-d93b-7dda6ea52aee"
      },
      "execution_count": null,
      "outputs": [
        {
          "output_type": "stream",
          "name": "stdout",
          "text": [
            "+--------------------+------+-----+--------------------+\n",
            "|                name|rating|price|            location|\n",
            "+--------------------+------+-----+--------------------+\n",
            "|           Uccellino|   4.3|  $$$|{country -> CA, a...|\n",
            "|              Bianco|   4.1|  NaN|{country -> CA, a...|\n",
            "|        Nuovo Bistro|   4.3|   $$|{country -> CA, a...|\n",
            "|     Vaticano Cucina|   4.2|   $$|{country -> CA, a...|\n",
            "|     Happy and Olive|   4.2|  NaN|{country -> CA, a...|\n",
            "|          Bar Bricco|   4.5|  $$$|{country -> CA, a...|\n",
            "|    La Prosciutteria|   4.4|  NaN|{country -> CA, a...|\n",
            "|  Violino Ristorante|   4.3|  $$$|{country -> CA, a...|\n",
            "|Allegro Italian K...|   4.3|  $$$|{country -> CA, a...|\n",
            "|        Cafe Celeste|   4.2|  NaN|{country -> CA, a...|\n",
            "|Mamma Tia's Mex-I...|   5.0|  NaN|{country -> US, a...|\n",
            "|New York Pizza & ...|   4.1|   $$|{country -> US, a...|\n",
            "+--------------------+------+-----+--------------------+\n",
            "\n"
          ]
        }
      ]
    },
    {
      "cell_type": "code",
      "source": [
        "# SQL Query: Businesses with multiple price ranges\n",
        "businesses_with_multiple_prices = spark.sql(\"\"\"\n",
        "SELECT name, rating, price, location\n",
        "FROM edm_sc\n",
        "WHERE price LIKE '$$$%'\n",
        "\"\"\")\n",
        "businesses_with_multiple_prices.show()"
      ],
      "metadata": {
        "colab": {
          "base_uri": "https://localhost:8080/"
        },
        "id": "0ZFy_F-Clu67",
        "outputId": "b0e850c9-b912-4ac2-a5e5-3ad72c52903e"
      },
      "execution_count": null,
      "outputs": [
        {
          "output_type": "stream",
          "name": "stdout",
          "text": [
            "+--------------------+------+-----+--------------------+\n",
            "|                name|rating|price|            location|\n",
            "+--------------------+------+-----+--------------------+\n",
            "|              RGE RD|   4.3|  $$$|{country -> CA, a...|\n",
            "|           Uccellino|   4.3|  $$$|{country -> CA, a...|\n",
            "|  The Butternut Tree|   4.3| $$$$|{country -> CA, a...|\n",
            "|               Sabor|   4.3|  $$$|{country -> CA, a...|\n",
            "|Black Pearl Seafo...|   4.2|  $$$|{country -> CA, a...|\n",
            "|              Bundok|   4.4| $$$$|{country -> CA, a...|\n",
            "|                 May|   4.6|  $$$|{country -> CA, a...|\n",
            "|Confederation Lounge|   4.2|  $$$|{country -> CA, a...|\n",
            "|        XIX Nineteen|   4.2|  $$$|{country -> CA, a...|\n",
            "|  The Captain's Boil|   3.5|  $$$|{country -> CA, a...|\n",
            "|          Bar Bricco|   4.5|  $$$|{country -> CA, a...|\n",
            "|       Grandma Pizza|   4.0| $$$$|{country -> CA, a...|\n",
            "|  Violino Ristorante|   4.3|  $$$|{country -> CA, a...|\n",
            "|    Sofra Restaurant|   4.2|  $$$|{country -> CA, a...|\n",
            "|Allegro Italian K...|   4.3|  $$$|{country -> CA, a...|\n",
            "|        Harvest Room|   4.1|  $$$|{country -> CA, a...|\n",
            "|Ruth's Chris Stea...|   3.8| $$$$|{country -> CA, a...|\n",
            "|Mythos Greek Taverna|   3.9|  $$$|{country -> CA, a...|\n",
            "|Normand's Restaurant|   4.5|  $$$|{country -> CA, a...|\n",
            "|La Ronde Revolvin...|   3.8|  $$$|{country -> CA, a...|\n",
            "+--------------------+------+-----+--------------------+\n",
            "only showing top 20 rows\n",
            "\n"
          ]
        }
      ]
    },
    {
      "cell_type": "code",
      "source": [
        "# SQL Query: Average rating of the business by location\n",
        "average_rating_by_location = spark.sql(\"\"\"\n",
        "SELECT location['city'], AVG(rating) as avg_rating\n",
        "FROM edm_sc\n",
        "WHERE location['city'] IS NOT NULL\n",
        "GROUP BY location['city']\n",
        "ORDER BY avg_rating DESC\n",
        "\"\"\")\n",
        "average_rating_by_location.show()"
      ],
      "metadata": {
        "colab": {
          "base_uri": "https://localhost:8080/"
        },
        "id": "Zt8ipWdll_5V",
        "outputId": "29097281-9b96-4e6b-d368-347be396e80a"
      },
      "execution_count": null,
      "outputs": [
        {
          "output_type": "stream",
          "name": "stdout",
          "text": [
            "+-----------------+------------------+\n",
            "|   location[city]|        avg_rating|\n",
            "+-----------------+------------------+\n",
            "|     Leduc County|               5.0|\n",
            "|       St  Albert|               4.9|\n",
            "|            Nisku|4.3999999999999995|\n",
            "|      Port Neches| 4.133333333333334|\n",
            "|       Bevil Oaks|               4.0|\n",
            "|        Nederland| 3.923809523809524|\n",
            "|        Ardrossan|               3.8|\n",
            "|        St Albert|               3.8|\n",
            "|            Vidor|             3.725|\n",
            "|            China|               3.7|\n",
            "|         Edmonton|3.6783458646616563|\n",
            "|       St. Albert|3.6357142857142852|\n",
            "|     Spruce Grove|3.5142857142857147|\n",
            "|         EdMonton|               3.4|\n",
            "|          Comfort|               3.4|\n",
            "|Fort Saskatchewan|             3.375|\n",
            "|        Lumberton|3.3294117647058816|\n",
            "|         Beaumont|3.2868217054263567|\n",
            "|      Port Arthur| 3.069565217391304|\n",
            "|            Enoch|              3.05|\n",
            "+-----------------+------------------+\n",
            "only showing top 20 rows\n",
            "\n"
          ]
        }
      ]
    },
    {
      "cell_type": "code",
      "source": [
        "# SQL Query: Businesses with the most reviews\n",
        "businesses_with_most_reviews = spark.sql(\"\"\"\n",
        "SELECT name, rating, price, location\n",
        "FROM edm_sc\n",
        "ORDER BY rating DESC\n",
        "LIMIT 5\n",
        "\"\"\")\n",
        "businesses_with_most_reviews.show()"
      ],
      "metadata": {
        "colab": {
          "base_uri": "https://localhost:8080/"
        },
        "id": "iDlDIoYdmk_w",
        "outputId": "502820e0-ec25-4aef-dd7b-0b04db9a3b76"
      },
      "execution_count": null,
      "outputs": [
        {
          "output_type": "stream",
          "name": "stdout",
          "text": [
            "+--------------------+------+-----+--------------------+\n",
            "|                name|rating|price|            location|\n",
            "+--------------------+------+-----+--------------------+\n",
            "|           Krew Cafe|   5.0|  NaN|{country -> CA, a...|\n",
            "|       Lucky Kitchen|   5.0|  NaN|{country -> CA, a...|\n",
            "|ZIGLE Korean Bulg...|   5.0|  NaN|{country -> CA, a...|\n",
            "|Ashford House Pub...|   5.0|  NaN|{country -> CA, a...|\n",
            "|             The Koi|   5.0|  NaN|{country -> CA, a...|\n",
            "+--------------------+------+-----+--------------------+\n",
            "\n"
          ]
        }
      ]
    },
    {
      "cell_type": "code",
      "source": [
        "# SQL Query: Businesses with number of reviews per business categories\n",
        "reviews_per_category = spark.sql(\"\"\"\n",
        "SELECT categories_title, AVG(rating) as avg_reviews\n",
        "FROM edm_sc\n",
        "GROUP BY categories_title\n",
        "\"\"\")\n",
        "reviews_per_category.show()"
      ],
      "metadata": {
        "colab": {
          "base_uri": "https://localhost:8080/"
        },
        "id": "0RQbuelHmqBA",
        "outputId": "bb544d81-5219-4670-a20f-66b2606b12e4"
      },
      "execution_count": null,
      "outputs": [
        {
          "output_type": "stream",
          "name": "stdout",
          "text": [
            "+--------------------+------------------+\n",
            "|    categories_title|       avg_reviews|\n",
            "+--------------------+------------------+\n",
            "|          Bubble Tea|3.3777777777777778|\n",
            "|               Salad|3.2583333333333333|\n",
            "|            Beer Bar|               4.2|\n",
            "|             Mexican| 3.928571428571428|\n",
            "|         Dance Clubs|              2.46|\n",
            "|             Turkish|               4.2|\n",
            "|           Dive Bars|            3.6125|\n",
            "|            Bakeries|4.1000000000000005|\n",
            "|         Gluten-Free|               4.4|\n",
            "|         Sports Bars| 3.145454545454546|\n",
            "|             Lounges|             2.984|\n",
            "|          Gastropubs|3.7600000000000002|\n",
            "|             Cabaret|               4.6|\n",
            "|      Internet Cafes|               0.0|\n",
            "|           Ethiopian|3.7999999999999994|\n",
            "|                Thai|               4.3|\n",
            "|          Pool Halls|3.1166666666666667|\n",
            "|        Themed Cafes|               4.3|\n",
            "|             Waffles|               3.6|\n",
            "|Paint-Your-Own Po...|               3.1|\n",
            "+--------------------+------------------+\n",
            "only showing top 20 rows\n",
            "\n"
          ]
        }
      ]
    },
    {
      "cell_type": "markdown",
      "source": [
        "# Gives us an idea which clusters of categories are in and around Edmonton"
      ],
      "metadata": {
        "id": "I0EJ7ojrnsm6"
      }
    },
    {
      "cell_type": "code",
      "source": [
        "#Finding the cluster of each categories in different locations\n",
        "\n",
        "cluster_query = (\n",
        "              \"\"\"\n",
        "              select categories_title, location['city'], count(id) as total_places\n",
        "              from edm_sc\n",
        "              group by categories_title, location['city']\n",
        "              order by total_places desc\n",
        "              \"\"\"\n",
        ")\n",
        "\n",
        "spark.sql(cluster_query).show()"
      ],
      "metadata": {
        "colab": {
          "base_uri": "https://localhost:8080/"
        },
        "id": "Qllupmhom_5a",
        "outputId": "40f79271-80d0-4e5e-8d31-736caae12784"
      },
      "execution_count": null,
      "outputs": [
        {
          "output_type": "stream",
          "name": "stdout",
          "text": [
            "+------------------+--------------+------------+\n",
            "|  categories_title|location[city]|total_places|\n",
            "+------------------+--------------+------------+\n",
            "|      Coffee & Tea|      Edmonton|          84|\n",
            "|             Cafes|      Edmonton|          61|\n",
            "|              Pubs|      Edmonton|          55|\n",
            "|              Bars|      Edmonton|          26|\n",
            "|         Fast Food| Sherwood Park|          25|\n",
            "|      Coffee & Tea| Sherwood Park|          24|\n",
            "|             Pizza| Sherwood Park|          23|\n",
            "|           Mexican|      Beaumont|          22|\n",
            "|    Canadian (New)|      Edmonton|          21|\n",
            "|       Sports Bars|      Edmonton|          20|\n",
            "|             Pizza|      Edmonton|          17|\n",
            "|           Seafood|      Beaumont|          16|\n",
            "|           Lounges|      Edmonton|          15|\n",
            "|      Coffee & Tea|      Beaumont|          15|\n",
            "|          Bakeries|      Edmonton|          14|\n",
            "|Breakfast & Brunch|      Edmonton|          13|\n",
            "|           Italian|      Edmonton|          12|\n",
            "|            Indian|      Edmonton|          12|\n",
            "|            Korean|      Edmonton|          11|\n",
            "|           Chinese|      Edmonton|          11|\n",
            "+------------------+--------------+------------+\n",
            "only showing top 20 rows\n",
            "\n"
          ]
        }
      ]
    },
    {
      "cell_type": "markdown",
      "metadata": {
        "id": "z9yha7Rzl5it"
      },
      "source": [
        "**3.3 - Data Visualization**\n",
        "\n",
        "You can visualize the results of your Spark SQL analysis using libraries like Matplotlib or Seaborn."
      ]
    },
    {
      "cell_type": "code",
      "execution_count": null,
      "metadata": {
        "id": "y8cmDdsmmO3m",
        "colab": {
          "base_uri": "https://localhost:8080/",
          "height": 570
        },
        "outputId": "6dc35583-d606-4301-bbb6-275f37c8dfcf"
      },
      "outputs": [
        {
          "output_type": "display_data",
          "data": {
            "text/plain": [
              "<Figure size 1000x600 with 1 Axes>"
            ],
            "image/png": "[encoded data removed]"
          },
          "metadata": {}
        }
      ],
      "source": [
        "import matplotlib.pyplot as plt\n",
        "import seaborn as sns\n",
        "\n",
        "# Execute the SQL query to get top 5 rated businesses\n",
        "top_rated_businesses = spark.sql(\"\"\"\n",
        "SELECT name, rating, price, location\n",
        "FROM edm_sc\n",
        "WHERE rating > 4\n",
        "ORDER BY rating DESC\n",
        "LIMIT 5\n",
        "\"\"\")\n",
        "\n",
        "# Convert Spark DataFrame to Pandas DataFrame for visualization\n",
        "top_rated_businesses_pandas = top_rated_businesses.toPandas()\n",
        "\n",
        "# Plotting the number of businesses per category\n",
        "plt.figure(figsize=(10,6))\n",
        "sns.barplot(x='name', y='rating', data=top_rated_businesses_pandas)\n",
        "plt.title('Top 5 Businesses by Rating (Above 4)', fontsize=16)\n",
        "plt.xlabel('Business Name', fontsize=12)\n",
        "plt.ylabel('Rating', fontsize=12)\n",
        "plt.show()\n"
      ]
    },
    {
      "cell_type": "code",
      "source": [
        "#Number of restaurants in the areas of city\n",
        "restaurant_areas = spark.sql(\n",
        "    \"\"\"\n",
        "                SELECT location['city'], count('name') as total_restaurants\n",
        "                FROM edm_sc\n",
        "                WHERE location['city'] IS NOT NULL\n",
        "                GROUP BY location['city']\n",
        "                ORDER BY total_restaurants DESC\n",
        "                \"\"\"\n",
        ")\n",
        "# restaurant_areas.show()\n",
        "# Convert Spark DataFrame to Pandas DataFrame for visualization\n",
        "restaurant_areas_pandas = restaurant_areas.toPandas()\n",
        "\n",
        "plt.figure(figsize=(10,6))\n",
        "sns.barplot(x='location[city]', y='total_restaurants', data=restaurant_areas_pandas)\n",
        "plt.title('Top areas by restaurant count (Above 4)', fontsize=16)\n",
        "plt.xlabel('Area Name', fontsize=12)\n",
        "plt.ylabel('Restaurant Count', fontsize=12)\n",
        "plt.xticks(rotation=90)\n",
        "plt.show()"
      ],
      "metadata": {
        "colab": {
          "base_uri": "https://localhost:8080/",
          "height": 688
        },
        "id": "6HDSBoq9_ODw",
        "outputId": "353a1564-1495-4cca-9cff-f4c20d1d617d"
      },
      "execution_count": null,
      "outputs": [
        {
          "output_type": "display_data",
          "data": {
            "text/plain": [
              "<Figure size 1000x600 with 1 Axes>"
            ],
            "image/png": "[encoded data removed]"
          },
          "metadata": {}
        }
      ]
    },
    {
      "cell_type": "code",
      "source": [
        "#Top restaurant types\n",
        "restaurant_types = spark.sql(\n",
        "    \"\"\"\n",
        "                SELECT location['city'], categories_title as categories, count('categories_title') as total_restaurants\n",
        "                FROM edm_sc\n",
        "                WHERE location['city'] = 'Edmonton'\n",
        "                GROUP BY location['city'],categories\n",
        "                ORDER BY total_restaurants DESC\n",
        "                \"\"\"\n",
        ")\n",
        "restaurant_types.show()"
      ],
      "metadata": {
        "colab": {
          "base_uri": "https://localhost:8080/"
        },
        "id": "-xvKQPdEK7Pj",
        "outputId": "54c97c17-99fa-4109-a36c-8e2d53e00e58"
      },
      "execution_count": null,
      "outputs": [
        {
          "output_type": "stream",
          "name": "stdout",
          "text": [
            "+--------------+------------------+-----------------+\n",
            "|location[city]|        categories|total_restaurants|\n",
            "+--------------+------------------+-----------------+\n",
            "|      Edmonton|      Coffee & Tea|               84|\n",
            "|      Edmonton|             Cafes|               61|\n",
            "|      Edmonton|              Pubs|               55|\n",
            "|      Edmonton|              Bars|               26|\n",
            "|      Edmonton|    Canadian (New)|               21|\n",
            "|      Edmonton|       Sports Bars|               20|\n",
            "|      Edmonton|             Pizza|               17|\n",
            "|      Edmonton|           Lounges|               15|\n",
            "|      Edmonton|          Bakeries|               14|\n",
            "|      Edmonton|Breakfast & Brunch|               13|\n",
            "|      Edmonton|           Italian|               12|\n",
            "|      Edmonton|            Indian|               12|\n",
            "|      Edmonton|          Japanese|               11|\n",
            "|      Edmonton|           Chinese|               11|\n",
            "|      Edmonton|           Burgers|               11|\n",
            "|      Edmonton|            Korean|               11|\n",
            "|      Edmonton|          Desserts|               10|\n",
            "|      Edmonton|           Mexican|               10|\n",
            "|      Edmonton|     Cocktail Bars|                9|\n",
            "|      Edmonton|        Vietnamese|                8|\n",
            "+--------------+------------------+-----------------+\n",
            "only showing top 20 rows\n",
            "\n"
          ]
        }
      ]
    },
    {
      "cell_type": "markdown",
      "metadata": {
        "id": "9VuUHYtGmaKU"
      },
      "source": [
        "Conclusion & Next Steps\n",
        "\n",
        "### Conclusion\n",
        "Summarize the key findings from your analysis, explaining how they support your business idea. For example:\n",
        "\n",
        "- **Top Rated Businesses**: We identified the highest-rated businesses, which are ideal candidates for recommendation.\n",
        "- **Category Insights**: Our analysis showed which categories are most popular in the Yelp dataset.\n",
        "\n",
        "### Future Steps\n",
        "- **Expand Data Collection**: Collect more data points (e.g., reviews, more businesses).\n",
        "- **Improve Recommendations**: Use the data to create a recommendation algorithm.\n"
      ]
    }
  ],
  "metadata": {
    "colab": {
      "provenance": [],
      "include_colab_link": true
    },
    "kernelspec": {
      "display_name": "Python 3",
      "name": "python3"
    },
    "language_info": {
      "name": "python"
    }
  },
  "nbformat": 4,
  "nbformat_minor": 0
}